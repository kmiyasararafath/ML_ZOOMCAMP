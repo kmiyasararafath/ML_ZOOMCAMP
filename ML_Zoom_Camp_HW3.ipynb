{
  "nbformat": 4,
  "nbformat_minor": 0,
  "metadata": {
    "colab": {
      "name": "ML_Zoom_Camp_HW3.ipynb",
      "provenance": [],
      "collapsed_sections": [],
      "authorship_tag": "ABX9TyNNzsNnZ6LkFOhHRKKXSO+U"
    },
    "kernelspec": {
      "name": "python3",
      "display_name": "Python 3"
    },
    "language_info": {
      "name": "python"
    }
  },
  "cells": [
    {
      "cell_type": "code",
      "metadata": {
        "id": "kQMNRoCY4dBx"
      },
      "source": [
        "import pandas as pd\n",
        "import numpy as np\n"
      ],
      "execution_count": 180,
      "outputs": []
    },
    {
      "cell_type": "code",
      "metadata": {
        "colab": {
          "base_uri": "https://localhost:8080/"
        },
        "id": "bgxWqRdB4rL1",
        "outputId": "d8656901-616e-4bc5-876c-04a83dc1d00c"
      },
      "source": [
        "!wget https://raw.githubusercontent.com/alexeygrigorev/datasets/master/AB_NYC_2019.csv -O data.csv"
      ],
      "execution_count": 181,
      "outputs": [
        {
          "output_type": "stream",
          "name": "stdout",
          "text": [
            "--2021-09-27 07:26:26--  https://raw.githubusercontent.com/alexeygrigorev/datasets/master/AB_NYC_2019.csv\n",
            "Resolving raw.githubusercontent.com (raw.githubusercontent.com)... 185.199.108.133, 185.199.109.133, 185.199.110.133, ...\n",
            "Connecting to raw.githubusercontent.com (raw.githubusercontent.com)|185.199.108.133|:443... connected.\n",
            "HTTP request sent, awaiting response... 200 OK\n",
            "Length: 7077973 (6.8M) [text/plain]\n",
            "Saving to: ‘data.csv’\n",
            "\n",
            "data.csv            100%[===================>]   6.75M  --.-KB/s    in 0.08s   \n",
            "\n",
            "2021-09-27 07:26:27 (80.6 MB/s) - ‘data.csv’ saved [7077973/7077973]\n",
            "\n"
          ]
        }
      ]
    },
    {
      "cell_type": "code",
      "metadata": {
        "colab": {
          "base_uri": "https://localhost:8080/"
        },
        "id": "VEMC8yz34yA0",
        "outputId": "5d25a0f1-ccb4-4fdd-d45a-30c6c4f7818f"
      },
      "source": [
        "df=pd.read_csv('data.csv')\n",
        "df.columns.T"
      ],
      "execution_count": 182,
      "outputs": [
        {
          "output_type": "execute_result",
          "data": {
            "text/plain": [
              "Index(['id', 'name', 'host_id', 'host_name', 'neighbourhood_group',\n",
              "       'neighbourhood', 'latitude', 'longitude', 'room_type', 'price',\n",
              "       'minimum_nights', 'number_of_reviews', 'last_review',\n",
              "       'reviews_per_month', 'calculated_host_listings_count',\n",
              "       'availability_365'],\n",
              "      dtype='object')"
            ]
          },
          "metadata": {},
          "execution_count": 182
        }
      ]
    },
    {
      "cell_type": "code",
      "metadata": {
        "colab": {
          "base_uri": "https://localhost:8080/"
        },
        "id": "cFaRBxr0420f",
        "outputId": "3741eae1-30de-451d-b09a-d76e007058a1"
      },
      "source": [
        "features=['neighbourhood_group',\n",
        "'room_type',\n",
        "'latitude',\n",
        "'longitude',\n",
        "'price',\n",
        "'minimum_nights',\n",
        "'number_of_reviews',\n",
        "'reviews_per_month',\n",
        "'calculated_host_listings_count',\n",
        "'availability_365']\n",
        "features"
      ],
      "execution_count": 183,
      "outputs": [
        {
          "output_type": "execute_result",
          "data": {
            "text/plain": [
              "['neighbourhood_group',\n",
              " 'room_type',\n",
              " 'latitude',\n",
              " 'longitude',\n",
              " 'price',\n",
              " 'minimum_nights',\n",
              " 'number_of_reviews',\n",
              " 'reviews_per_month',\n",
              " 'calculated_host_listings_count',\n",
              " 'availability_365']"
            ]
          },
          "metadata": {},
          "execution_count": 183
        }
      ]
    },
    {
      "cell_type": "code",
      "metadata": {
        "id": "R9x0OpJk5JjG"
      },
      "source": [
        "df_work=df[features]"
      ],
      "execution_count": 184,
      "outputs": []
    },
    {
      "cell_type": "code",
      "metadata": {
        "colab": {
          "base_uri": "https://localhost:8080/"
        },
        "id": "RCg0vfoM5Z6W",
        "outputId": "7a4e7de3-3c07-4828-dd43-bc49e41f669f"
      },
      "source": [
        "df_work.dtypes"
      ],
      "execution_count": 185,
      "outputs": [
        {
          "output_type": "execute_result",
          "data": {
            "text/plain": [
              "neighbourhood_group                object\n",
              "room_type                          object\n",
              "latitude                          float64\n",
              "longitude                         float64\n",
              "price                               int64\n",
              "minimum_nights                      int64\n",
              "number_of_reviews                   int64\n",
              "reviews_per_month                 float64\n",
              "calculated_host_listings_count      int64\n",
              "availability_365                    int64\n",
              "dtype: object"
            ]
          },
          "metadata": {},
          "execution_count": 185
        }
      ]
    },
    {
      "cell_type": "code",
      "metadata": {
        "colab": {
          "base_uri": "https://localhost:8080/"
        },
        "id": "NgYVxlbn5k5z",
        "outputId": "ef70a661-6bbb-407d-8448-652fdda25499"
      },
      "source": [
        "df_work.neighbourhood_group.unique()"
      ],
      "execution_count": 186,
      "outputs": [
        {
          "output_type": "execute_result",
          "data": {
            "text/plain": [
              "array(['Brooklyn', 'Manhattan', 'Queens', 'Staten Island', 'Bronx'],\n",
              "      dtype=object)"
            ]
          },
          "metadata": {},
          "execution_count": 186
        }
      ]
    },
    {
      "cell_type": "code",
      "metadata": {
        "colab": {
          "base_uri": "https://localhost:8080/"
        },
        "id": "WsYIZ8c67bUK",
        "outputId": "d68e214f-d956-4d0a-e672-48c063170f2e"
      },
      "source": [
        "df_work.room_type.unique()"
      ],
      "execution_count": 187,
      "outputs": [
        {
          "output_type": "execute_result",
          "data": {
            "text/plain": [
              "array(['Private room', 'Entire home/apt', 'Shared room'], dtype=object)"
            ]
          },
          "metadata": {},
          "execution_count": 187
        }
      ]
    },
    {
      "cell_type": "code",
      "metadata": {
        "colab": {
          "base_uri": "https://localhost:8080/"
        },
        "id": "0l6kfggX6thj",
        "outputId": "5c7a4a50-bd33-4c19-a6e1-a9b896180a59"
      },
      "source": [
        "df_work.isnull().sum()"
      ],
      "execution_count": 188,
      "outputs": [
        {
          "output_type": "execute_result",
          "data": {
            "text/plain": [
              "neighbourhood_group                   0\n",
              "room_type                             0\n",
              "latitude                              0\n",
              "longitude                             0\n",
              "price                                 0\n",
              "minimum_nights                        0\n",
              "number_of_reviews                     0\n",
              "reviews_per_month                 10052\n",
              "calculated_host_listings_count        0\n",
              "availability_365                      0\n",
              "dtype: int64"
            ]
          },
          "metadata": {},
          "execution_count": 188
        }
      ]
    },
    {
      "cell_type": "code",
      "metadata": {
        "id": "1hGRLH3s8dmY"
      },
      "source": [
        "df_work=df_work.fillna(0)"
      ],
      "execution_count": 189,
      "outputs": []
    },
    {
      "cell_type": "code",
      "metadata": {
        "colab": {
          "base_uri": "https://localhost:8080/"
        },
        "id": "cZPbRg3Q8yCf",
        "outputId": "68533d72-029e-4f5c-898d-66bae8a3d8a8"
      },
      "source": [
        "df_work.isnull().sum()"
      ],
      "execution_count": 190,
      "outputs": [
        {
          "output_type": "execute_result",
          "data": {
            "text/plain": [
              "neighbourhood_group               0\n",
              "room_type                         0\n",
              "latitude                          0\n",
              "longitude                         0\n",
              "price                             0\n",
              "minimum_nights                    0\n",
              "number_of_reviews                 0\n",
              "reviews_per_month                 0\n",
              "calculated_host_listings_count    0\n",
              "availability_365                  0\n",
              "dtype: int64"
            ]
          },
          "metadata": {},
          "execution_count": 190
        }
      ]
    },
    {
      "cell_type": "code",
      "metadata": {
        "colab": {
          "base_uri": "https://localhost:8080/"
        },
        "id": "RJJPUnqz9MRN",
        "outputId": "14f383b1-3675-41d5-b18d-bc712964e7f6"
      },
      "source": [
        "df_work.neighbourhood_group.unique()"
      ],
      "execution_count": 191,
      "outputs": [
        {
          "output_type": "execute_result",
          "data": {
            "text/plain": [
              "array(['Brooklyn', 'Manhattan', 'Queens', 'Staten Island', 'Bronx'],\n",
              "      dtype=object)"
            ]
          },
          "metadata": {},
          "execution_count": 191
        }
      ]
    },
    {
      "cell_type": "code",
      "metadata": {
        "colab": {
          "base_uri": "https://localhost:8080/"
        },
        "id": "haJjNT5qLKUx",
        "outputId": "3025c0f7-ec38-4540-86fc-55fb35286966"
      },
      "source": [
        "df_work.columns"
      ],
      "execution_count": 192,
      "outputs": [
        {
          "output_type": "execute_result",
          "data": {
            "text/plain": [
              "Index(['neighbourhood_group', 'room_type', 'latitude', 'longitude', 'price',\n",
              "       'minimum_nights', 'number_of_reviews', 'reviews_per_month',\n",
              "       'calculated_host_listings_count', 'availability_365'],\n",
              "      dtype='object')"
            ]
          },
          "metadata": {},
          "execution_count": 192
        }
      ]
    },
    {
      "cell_type": "markdown",
      "metadata": {
        "id": "pg5PneNQ_T6C"
      },
      "source": [
        "Question 1"
      ]
    },
    {
      "cell_type": "code",
      "metadata": {
        "colab": {
          "base_uri": "https://localhost:8080/"
        },
        "id": "UCd8vBmq9gEe",
        "outputId": "b06257c0-5a07-4bab-db0e-f6cfaeb461d8"
      },
      "source": [
        "df_work.neighbourhood_group.mode()"
      ],
      "execution_count": 193,
      "outputs": [
        {
          "output_type": "execute_result",
          "data": {
            "text/plain": [
              "0    Manhattan\n",
              "dtype: object"
            ]
          },
          "metadata": {},
          "execution_count": 193
        }
      ]
    },
    {
      "cell_type": "code",
      "metadata": {
        "colab": {
          "base_uri": "https://localhost:8080/"
        },
        "id": "Q6MTijIo-jrZ",
        "outputId": "138ebf05-ec2e-4be1-be1d-cce57eceaa7a"
      },
      "source": [
        "#splitting the dataset to train, validation and test\n",
        "from sklearn.model_selection import train_test_split\n",
        "df_train_full,df_test=train_test_split(df_work,test_size=0.2,random_state=42)\n",
        "df_train,df_val=train_test_split(df_train_full,test_size=0.25,random_state=42)\n",
        "print(len(df_train))\n",
        "print(len(df_test))\n",
        "print(len(df_val))"
      ],
      "execution_count": 194,
      "outputs": [
        {
          "output_type": "stream",
          "name": "stdout",
          "text": [
            "29337\n",
            "9779\n",
            "9779\n"
          ]
        }
      ]
    },
    {
      "cell_type": "code",
      "metadata": {
        "colab": {
          "base_uri": "https://localhost:8080/"
        },
        "id": "slursOeIAJYU",
        "outputId": "f18c4d7b-dde2-4a70-f25e-a71ffbb4725f"
      },
      "source": [
        "y_train=df_train['price'].values\n",
        "y_test=df_test['price'].values\n",
        "y_val=df_val['price'].values\n",
        "print(len(y_train))\n",
        "print(len(y_test))\n",
        "print(len(y_val))"
      ],
      "execution_count": 195,
      "outputs": [
        {
          "output_type": "stream",
          "name": "stdout",
          "text": [
            "29337\n",
            "9779\n",
            "9779\n"
          ]
        }
      ]
    },
    {
      "cell_type": "code",
      "metadata": {
        "colab": {
          "base_uri": "https://localhost:8080/"
        },
        "id": "SM_ilUplMCur",
        "outputId": "40a2922e-2484-432a-b535-4ed5a26001f5"
      },
      "source": [
        "del df_train['price']\n",
        "del df_test['price']\n",
        "del df_val['price']\n",
        "df_train.columns"
      ],
      "execution_count": 196,
      "outputs": [
        {
          "output_type": "execute_result",
          "data": {
            "text/plain": [
              "Index(['neighbourhood_group', 'room_type', 'latitude', 'longitude',\n",
              "       'minimum_nights', 'number_of_reviews', 'reviews_per_month',\n",
              "       'calculated_host_listings_count', 'availability_365'],\n",
              "      dtype='object')"
            ]
          },
          "metadata": {},
          "execution_count": 196
        }
      ]
    },
    {
      "cell_type": "markdown",
      "metadata": {
        "id": "cT20GJhf_Wdb"
      },
      "source": [
        "Question 2"
      ]
    },
    {
      "cell_type": "code",
      "metadata": {
        "colab": {
          "base_uri": "https://localhost:8080/"
        },
        "id": "YXj-22_OM47i",
        "outputId": "b9481ffb-2a87-4d30-f791-377063021397"
      },
      "source": [
        "# Finding the correlation\n",
        "numerical=list(df_train.dtypes[ df_train.dtypes!='object'].index)\n",
        "categorical=list(df_train.dtypes[ df_train.dtypes=='object'].index)\n",
        "print(numerical)\n",
        "print(categorical)\n"
      ],
      "execution_count": 197,
      "outputs": [
        {
          "output_type": "stream",
          "name": "stdout",
          "text": [
            "['latitude', 'longitude', 'minimum_nights', 'number_of_reviews', 'reviews_per_month', 'calculated_host_listings_count', 'availability_365']\n",
            "['neighbourhood_group', 'room_type']\n"
          ]
        }
      ]
    },
    {
      "cell_type": "code",
      "metadata": {
        "colab": {
          "base_uri": "https://localhost:8080/",
          "height": 455
        },
        "id": "esmn4GNINiIw",
        "outputId": "95665274-02f9-4753-b7bc-370c17c12018"
      },
      "source": [
        "x_corr_matrix=df_train.corr()\n",
        "print(x_corr_matrix)\n",
        "df_train.corr()"
      ],
      "execution_count": 198,
      "outputs": [
        {
          "output_type": "stream",
          "name": "stdout",
          "text": [
            "                                latitude  ...  availability_365\n",
            "latitude                        1.000000  ...         -0.005891\n",
            "longitude                       0.080301  ...          0.083666\n",
            "minimum_nights                  0.027441  ...          0.138901\n",
            "number_of_reviews              -0.006246  ...          0.174477\n",
            "reviews_per_month              -0.007159  ...          0.165376\n",
            "calculated_host_listings_count  0.019375  ...          0.225913\n",
            "availability_365               -0.005891  ...          1.000000\n",
            "\n",
            "[7 rows x 7 columns]\n"
          ]
        },
        {
          "output_type": "execute_result",
          "data": {
            "text/html": [
              "<div>\n",
              "<style scoped>\n",
              "    .dataframe tbody tr th:only-of-type {\n",
              "        vertical-align: middle;\n",
              "    }\n",
              "\n",
              "    .dataframe tbody tr th {\n",
              "        vertical-align: top;\n",
              "    }\n",
              "\n",
              "    .dataframe thead th {\n",
              "        text-align: right;\n",
              "    }\n",
              "</style>\n",
              "<table border=\"1\" class=\"dataframe\">\n",
              "  <thead>\n",
              "    <tr style=\"text-align: right;\">\n",
              "      <th></th>\n",
              "      <th>latitude</th>\n",
              "      <th>longitude</th>\n",
              "      <th>minimum_nights</th>\n",
              "      <th>number_of_reviews</th>\n",
              "      <th>reviews_per_month</th>\n",
              "      <th>calculated_host_listings_count</th>\n",
              "      <th>availability_365</th>\n",
              "    </tr>\n",
              "  </thead>\n",
              "  <tbody>\n",
              "    <tr>\n",
              "      <th>latitude</th>\n",
              "      <td>1.000000</td>\n",
              "      <td>0.080301</td>\n",
              "      <td>0.027441</td>\n",
              "      <td>-0.006246</td>\n",
              "      <td>-0.007159</td>\n",
              "      <td>0.019375</td>\n",
              "      <td>-0.005891</td>\n",
              "    </tr>\n",
              "    <tr>\n",
              "      <th>longitude</th>\n",
              "      <td>0.080301</td>\n",
              "      <td>1.000000</td>\n",
              "      <td>-0.060660</td>\n",
              "      <td>0.055084</td>\n",
              "      <td>0.134642</td>\n",
              "      <td>-0.117041</td>\n",
              "      <td>0.083666</td>\n",
              "    </tr>\n",
              "    <tr>\n",
              "      <th>minimum_nights</th>\n",
              "      <td>0.027441</td>\n",
              "      <td>-0.060660</td>\n",
              "      <td>1.000000</td>\n",
              "      <td>-0.076020</td>\n",
              "      <td>-0.120703</td>\n",
              "      <td>0.118647</td>\n",
              "      <td>0.138901</td>\n",
              "    </tr>\n",
              "    <tr>\n",
              "      <th>number_of_reviews</th>\n",
              "      <td>-0.006246</td>\n",
              "      <td>0.055084</td>\n",
              "      <td>-0.076020</td>\n",
              "      <td>1.000000</td>\n",
              "      <td>0.590374</td>\n",
              "      <td>-0.073167</td>\n",
              "      <td>0.174477</td>\n",
              "    </tr>\n",
              "    <tr>\n",
              "      <th>reviews_per_month</th>\n",
              "      <td>-0.007159</td>\n",
              "      <td>0.134642</td>\n",
              "      <td>-0.120703</td>\n",
              "      <td>0.590374</td>\n",
              "      <td>1.000000</td>\n",
              "      <td>-0.048767</td>\n",
              "      <td>0.165376</td>\n",
              "    </tr>\n",
              "    <tr>\n",
              "      <th>calculated_host_listings_count</th>\n",
              "      <td>0.019375</td>\n",
              "      <td>-0.117041</td>\n",
              "      <td>0.118647</td>\n",
              "      <td>-0.073167</td>\n",
              "      <td>-0.048767</td>\n",
              "      <td>1.000000</td>\n",
              "      <td>0.225913</td>\n",
              "    </tr>\n",
              "    <tr>\n",
              "      <th>availability_365</th>\n",
              "      <td>-0.005891</td>\n",
              "      <td>0.083666</td>\n",
              "      <td>0.138901</td>\n",
              "      <td>0.174477</td>\n",
              "      <td>0.165376</td>\n",
              "      <td>0.225913</td>\n",
              "      <td>1.000000</td>\n",
              "    </tr>\n",
              "  </tbody>\n",
              "</table>\n",
              "</div>"
            ],
            "text/plain": [
              "                                latitude  ...  availability_365\n",
              "latitude                        1.000000  ...         -0.005891\n",
              "longitude                       0.080301  ...          0.083666\n",
              "minimum_nights                  0.027441  ...          0.138901\n",
              "number_of_reviews              -0.006246  ...          0.174477\n",
              "reviews_per_month              -0.007159  ...          0.165376\n",
              "calculated_host_listings_count  0.019375  ...          0.225913\n",
              "availability_365               -0.005891  ...          1.000000\n",
              "\n",
              "[7 rows x 7 columns]"
            ]
          },
          "metadata": {},
          "execution_count": 198
        }
      ]
    },
    {
      "cell_type": "markdown",
      "metadata": {
        "id": "6YK5tQvON9hq"
      },
      "source": [
        "HIgh correlation parameters are \n",
        "1. reviews_per_month and number_of_reviews\n",
        "2. calculated_host_listings_count and availability_365"
      ]
    },
    {
      "cell_type": "code",
      "metadata": {
        "colab": {
          "base_uri": "https://localhost:8080/"
        },
        "id": "d_N_HvigUQwl",
        "outputId": "60d9ea96-038e-422b-8a07-a70451f0d071"
      },
      "source": [
        "# Making price binary\n",
        "above_average=(y_train>152).astype(int)\n",
        "above_average"
      ],
      "execution_count": 199,
      "outputs": [
        {
          "output_type": "execute_result",
          "data": {
            "text/plain": [
              "array([0, 0, 0, ..., 1, 0, 0])"
            ]
          },
          "metadata": {},
          "execution_count": 199
        }
      ]
    },
    {
      "cell_type": "markdown",
      "metadata": {
        "id": "Yvuj5D8vYktV"
      },
      "source": [
        "Question 3"
      ]
    },
    {
      "cell_type": "code",
      "metadata": {
        "id": "-Lghnt33Z8ZQ",
        "colab": {
          "base_uri": "https://localhost:8080/"
        },
        "outputId": "45fd9faa-5c2c-4224-de71-b12609c4d2ce"
      },
      "source": [
        "# Finding the mutual information \n",
        "from sklearn.metrics import mutual_info_score\n",
        "neighbourhood_group_mutual_info=round(mutual_info_score(df_train.neighbourhood_group,above_average),2)\n",
        "neighbourhood_group_mutual_info"
      ],
      "execution_count": 200,
      "outputs": [
        {
          "output_type": "execute_result",
          "data": {
            "text/plain": [
              "0.05"
            ]
          },
          "metadata": {},
          "execution_count": 200
        }
      ]
    },
    {
      "cell_type": "code",
      "metadata": {
        "colab": {
          "base_uri": "https://localhost:8080/"
        },
        "id": "vJ11DF5yZHIs",
        "outputId": "de8dc031-45fa-4100-fe06-3cde9ae54ea1"
      },
      "source": [
        "room_type_mutual_info=round(mutual_info_score(df_train.room_type,above_average),2)\n",
        "room_type_mutual_info"
      ],
      "execution_count": 201,
      "outputs": [
        {
          "output_type": "execute_result",
          "data": {
            "text/plain": [
              "0.14"
            ]
          },
          "metadata": {},
          "execution_count": 201
        }
      ]
    },
    {
      "cell_type": "markdown",
      "metadata": {
        "id": "r5dY8O4RZ3Yo"
      },
      "source": [
        "room_type has more mutual information than neighbourhood_group"
      ]
    },
    {
      "cell_type": "markdown",
      "metadata": {
        "id": "rCgdWk-yaSW9"
      },
      "source": [
        "Question 4"
      ]
    },
    {
      "cell_type": "code",
      "metadata": {
        "id": "VF7rdBiHZpn9"
      },
      "source": [
        "# Creating one hot encoded categorical variables\n",
        "from sklearn.feature_extraction import DictVectorizer\n",
        "diction=df_train[categorical].to_dict(orient='records')"
      ],
      "execution_count": 202,
      "outputs": []
    },
    {
      "cell_type": "code",
      "metadata": {
        "colab": {
          "base_uri": "https://localhost:8080/"
        },
        "id": "HGromzt-aQpt",
        "outputId": "f40f6335-27cf-47e6-e58e-be1c3a849d6f"
      },
      "source": [
        "dv=DictVectorizer(sparse=False)\n",
        "dv.fit(diction)\n",
        "dv.get_feature_names()"
      ],
      "execution_count": 203,
      "outputs": [
        {
          "output_type": "execute_result",
          "data": {
            "text/plain": [
              "['neighbourhood_group=Bronx',\n",
              " 'neighbourhood_group=Brooklyn',\n",
              " 'neighbourhood_group=Manhattan',\n",
              " 'neighbourhood_group=Queens',\n",
              " 'neighbourhood_group=Staten Island',\n",
              " 'room_type=Entire home/apt',\n",
              " 'room_type=Private room',\n",
              " 'room_type=Shared room']"
            ]
          },
          "metadata": {},
          "execution_count": 203
        }
      ]
    },
    {
      "cell_type": "code",
      "metadata": {
        "colab": {
          "base_uri": "https://localhost:8080/"
        },
        "id": "5coRHmkrbuDd",
        "outputId": "fe072378-d3e9-499b-be81-a85ca637766a"
      },
      "source": [
        "dv.transform(diction)"
      ],
      "execution_count": 204,
      "outputs": [
        {
          "output_type": "execute_result",
          "data": {
            "text/plain": [
              "array([[0., 1., 0., ..., 1., 0., 0.],\n",
              "       [0., 0., 1., ..., 0., 1., 0.],\n",
              "       [1., 0., 0., ..., 1., 0., 0.],\n",
              "       ...,\n",
              "       [0., 0., 1., ..., 0., 1., 0.],\n",
              "       [0., 1., 0., ..., 0., 1., 0.],\n",
              "       [0., 1., 0., ..., 1., 0., 0.]])"
            ]
          },
          "metadata": {},
          "execution_count": 204
        }
      ]
    },
    {
      "cell_type": "code",
      "metadata": {
        "id": "E5wOpvSdc_ee"
      },
      "source": [
        "diction=df_train.to_dict(orient='records')"
      ],
      "execution_count": 205,
      "outputs": []
    },
    {
      "cell_type": "code",
      "metadata": {
        "colab": {
          "base_uri": "https://localhost:8080/"
        },
        "id": "lCivDFDldKSN",
        "outputId": "b56481d2-eaca-4c72-d982-fc48d6a8f633"
      },
      "source": [
        "dv=DictVectorizer(sparse=False)\n",
        "dv.fit(diction)\n",
        "dv.get_feature_names()"
      ],
      "execution_count": 206,
      "outputs": [
        {
          "output_type": "execute_result",
          "data": {
            "text/plain": [
              "['availability_365',\n",
              " 'calculated_host_listings_count',\n",
              " 'latitude',\n",
              " 'longitude',\n",
              " 'minimum_nights',\n",
              " 'neighbourhood_group=Bronx',\n",
              " 'neighbourhood_group=Brooklyn',\n",
              " 'neighbourhood_group=Manhattan',\n",
              " 'neighbourhood_group=Queens',\n",
              " 'neighbourhood_group=Staten Island',\n",
              " 'number_of_reviews',\n",
              " 'reviews_per_month',\n",
              " 'room_type=Entire home/apt',\n",
              " 'room_type=Private room',\n",
              " 'room_type=Shared room']"
            ]
          },
          "metadata": {},
          "execution_count": 206
        }
      ]
    },
    {
      "cell_type": "code",
      "metadata": {
        "id": "sHhBZSuAdQ_d"
      },
      "source": [
        "X_train=dv.transform(diction)"
      ],
      "execution_count": 207,
      "outputs": []
    },
    {
      "cell_type": "code",
      "metadata": {
        "colab": {
          "base_uri": "https://localhost:8080/"
        },
        "id": "KNKtKyEOdhDe",
        "outputId": "e1e1d319-89c7-4200-c86a-2cabcaab37e4"
      },
      "source": [
        "X_train.shape"
      ],
      "execution_count": 208,
      "outputs": [
        {
          "output_type": "execute_result",
          "data": {
            "text/plain": [
              "(29337, 15)"
            ]
          },
          "metadata": {},
          "execution_count": 208
        }
      ]
    },
    {
      "cell_type": "code",
      "metadata": {
        "colab": {
          "base_uri": "https://localhost:8080/"
        },
        "id": "BtAi9dImeQFO",
        "outputId": "5070d8a2-ea90-4954-ad1c-5ae89bc2232f"
      },
      "source": [
        "diction=df_val.to_dict(orient='records')\n",
        "X_val=dv.transform(diction)\n",
        "X_val.shape"
      ],
      "execution_count": 209,
      "outputs": [
        {
          "output_type": "execute_result",
          "data": {
            "text/plain": [
              "(9779, 15)"
            ]
          },
          "metadata": {},
          "execution_count": 209
        }
      ]
    },
    {
      "cell_type": "code",
      "metadata": {
        "colab": {
          "base_uri": "https://localhost:8080/"
        },
        "id": "ocDNsxbDcDE9",
        "outputId": "f527c4c7-b41c-4587-a768-88f7d730047e"
      },
      "source": [
        "y_train=above_average\n",
        "print(y_train.shape)\n",
        "y_val=(y_val>152).astype(int)\n",
        "print(y_val.shape)"
      ],
      "execution_count": 210,
      "outputs": [
        {
          "output_type": "stream",
          "name": "stdout",
          "text": [
            "(29337,)\n",
            "(9779,)\n"
          ]
        }
      ]
    },
    {
      "cell_type": "code",
      "metadata": {
        "colab": {
          "base_uri": "https://localhost:8080/"
        },
        "id": "_iCa4064ffsO",
        "outputId": "38692cef-dfce-4ab7-e780-a767bfbb0035"
      },
      "source": [
        "from sklearn.linear_model import LogisticRegression\n",
        "# Creating a logistic regression\n",
        "model = LogisticRegression(solver='lbfgs', C=1.0, random_state=42)\n",
        "model.fit(X_train,y_train)"
      ],
      "execution_count": 211,
      "outputs": [
        {
          "output_type": "stream",
          "name": "stderr",
          "text": [
            "/usr/local/lib/python3.7/dist-packages/sklearn/linear_model/_logistic.py:940: ConvergenceWarning: lbfgs failed to converge (status=1):\n",
            "STOP: TOTAL NO. of ITERATIONS REACHED LIMIT.\n",
            "\n",
            "Increase the number of iterations (max_iter) or scale the data as shown in:\n",
            "    https://scikit-learn.org/stable/modules/preprocessing.html\n",
            "Please also refer to the documentation for alternative solver options:\n",
            "    https://scikit-learn.org/stable/modules/linear_model.html#logistic-regression\n",
            "  extra_warning_msg=_LOGISTIC_SOLVER_CONVERGENCE_MSG)\n"
          ]
        },
        {
          "output_type": "execute_result",
          "data": {
            "text/plain": [
              "LogisticRegression(C=1.0, class_weight=None, dual=False, fit_intercept=True,\n",
              "                   intercept_scaling=1, l1_ratio=None, max_iter=100,\n",
              "                   multi_class='auto', n_jobs=None, penalty='l2',\n",
              "                   random_state=42, solver='lbfgs', tol=0.0001, verbose=0,\n",
              "                   warm_start=False)"
            ]
          },
          "metadata": {},
          "execution_count": 211
        }
      ]
    },
    {
      "cell_type": "code",
      "metadata": {
        "colab": {
          "base_uri": "https://localhost:8080/"
        },
        "id": "ISJuP-POfl9d",
        "outputId": "1416b1b6-ae58-4a0a-b6cc-d6b799049b5e"
      },
      "source": [
        "y_pred=model.predict_proba(X_val)[:,1]\n",
        "y_pred\n"
      ],
      "execution_count": 212,
      "outputs": [
        {
          "output_type": "execute_result",
          "data": {
            "text/plain": [
              "array([0.03240075, 0.58137135, 0.39967304, ..., 0.09245741, 0.03385644,\n",
              "       0.62963935])"
            ]
          },
          "metadata": {},
          "execution_count": 212
        }
      ]
    },
    {
      "cell_type": "code",
      "metadata": {
        "colab": {
          "base_uri": "https://localhost:8080/"
        },
        "id": "8PDEJiiAgZ0u",
        "outputId": "a636e76b-3e6d-4097-d594-478c8e3bc8cd"
      },
      "source": [
        "y_pred=(y_pred>0.5).astype(int)\n",
        "print(y_pred)\n",
        "print(y_val)"
      ],
      "execution_count": 213,
      "outputs": [
        {
          "output_type": "stream",
          "name": "stdout",
          "text": [
            "[0 1 0 ... 0 0 1]\n",
            "[0 0 1 ... 0 0 0]\n"
          ]
        }
      ]
    },
    {
      "cell_type": "code",
      "metadata": {
        "colab": {
          "base_uri": "https://localhost:8080/"
        },
        "id": "lXBibdyVgrwP",
        "outputId": "71a11c44-0c85-4ac2-d837-96a3be29b65c"
      },
      "source": [
        "accuracy=round((y_val==y_pred).mean(),2)\n",
        "accuracy"
      ],
      "execution_count": 214,
      "outputs": [
        {
          "output_type": "execute_result",
          "data": {
            "text/plain": [
              "0.79"
            ]
          },
          "metadata": {},
          "execution_count": 214
        }
      ]
    },
    {
      "cell_type": "code",
      "metadata": {
        "id": "gZ9QA80eg5Nu"
      },
      "source": [
        "def prepare_data(df,features):\n",
        "  df_work=df[features]\n",
        "  df_train_full,df_test=train_test_split(df_work,test_size=0.2,random_state=42)\n",
        "  df_train,df_val=train_test_split(df_train_full,test_size=0.25,random_state=42)\n",
        "  y_train=df_train['price'].values\n",
        "  y_test=df_test['price'].values\n",
        "  y_val=df_val['price'].values\n",
        "  del df_train['price']\n",
        "  del df_test['price']\n",
        "  del df_val['price']\n",
        "  train_dict=df_train.to_dict(orient='records')\n",
        "  test_dict=df_test.to_dict(orient='records')\n",
        "  val_dict=df_val.to_dict(orient='records')\n",
        "  dv=DictVectorizer(sparse=False)\n",
        "  dv.fit(train_dict)\n",
        "  print(dv.get_feature_names())\n",
        "  X_train=dv.transform(train_dict)\n",
        "  X_test=dv.transform(test_dict)\n",
        "  X_val=dv.transform(val_dict)\n",
        "  y_train=(y_train>152).astype(int)\n",
        "  y_test=(y_test>152).astype(int)\n",
        "  y_val=(y_val>152).astype(int)\n",
        "  return X_train,X_test,X_val,y_train,y_test,y_val"
      ],
      "execution_count": 215,
      "outputs": []
    },
    {
      "cell_type": "code",
      "metadata": {
        "colab": {
          "base_uri": "https://localhost:8080/"
        },
        "id": "WCAwH90gq5ma",
        "outputId": "1a0ea6d3-594c-4e02-d4e5-f61ae5357f40"
      },
      "source": [
        "df=pd.read_csv('data.csv')\n",
        "print(df.head())\n",
        "df.isnull().sum()\n",
        "df=df.fillna(0)\n",
        "df.isnull().sum()"
      ],
      "execution_count": 216,
      "outputs": [
        {
          "output_type": "stream",
          "name": "stdout",
          "text": [
            "     id  ... availability_365\n",
            "0  2539  ...              365\n",
            "1  2595  ...              355\n",
            "2  3647  ...              365\n",
            "3  3831  ...              194\n",
            "4  5022  ...                0\n",
            "\n",
            "[5 rows x 16 columns]\n"
          ]
        },
        {
          "output_type": "execute_result",
          "data": {
            "text/plain": [
              "id                                0\n",
              "name                              0\n",
              "host_id                           0\n",
              "host_name                         0\n",
              "neighbourhood_group               0\n",
              "neighbourhood                     0\n",
              "latitude                          0\n",
              "longitude                         0\n",
              "room_type                         0\n",
              "price                             0\n",
              "minimum_nights                    0\n",
              "number_of_reviews                 0\n",
              "last_review                       0\n",
              "reviews_per_month                 0\n",
              "calculated_host_listings_count    0\n",
              "availability_365                  0\n",
              "dtype: int64"
            ]
          },
          "metadata": {},
          "execution_count": 216
        }
      ]
    },
    {
      "cell_type": "markdown",
      "metadata": {
        "id": "Rgut_idi8DqY"
      },
      "source": [
        "Question 4"
      ]
    },
    {
      "cell_type": "code",
      "metadata": {
        "colab": {
          "base_uri": "https://localhost:8080/"
        },
        "id": "e1_A3YofmxNV",
        "outputId": "94355805-66af-4e9e-c108-4577ad4ec3a5"
      },
      "source": [
        "features=['neighbourhood_group',\n",
        "'room_type',\n",
        "'latitude',\n",
        "'longitude',\n",
        "'availability_365',\n",
        "'minimum_nights',\n",
        "'number_of_reviews',\n",
        "'reviews_per_month',\n",
        "'calculated_host_listings_count',\n",
        "'price']\n",
        "print(features)\n",
        "X_train,X_test,X_val,y_train,y_test,y_val=prepare_data(df,features)\n",
        "print(X_train.shape,X_test.shape,X_val.shape,y_train.shape,y_test.shape,y_val.shape)\n",
        "model = LogisticRegression(solver='lbfgs', C=1.0, random_state=42)\n",
        "model.fit(X_train,y_train)\n",
        "y_pred=model.predict_proba(X_val)[:,1]\n",
        "y_pred=(y_pred>0.5).astype(int)\n",
        "accuracy=round((y_val==y_pred).mean(),2)\n",
        "print(accuracy)"
      ],
      "execution_count": 217,
      "outputs": [
        {
          "output_type": "stream",
          "name": "stdout",
          "text": [
            "['neighbourhood_group', 'room_type', 'latitude', 'longitude', 'availability_365', 'minimum_nights', 'number_of_reviews', 'reviews_per_month', 'calculated_host_listings_count', 'price']\n",
            "['availability_365', 'calculated_host_listings_count', 'latitude', 'longitude', 'minimum_nights', 'neighbourhood_group=Bronx', 'neighbourhood_group=Brooklyn', 'neighbourhood_group=Manhattan', 'neighbourhood_group=Queens', 'neighbourhood_group=Staten Island', 'number_of_reviews', 'reviews_per_month', 'room_type=Entire home/apt', 'room_type=Private room', 'room_type=Shared room']\n",
            "(29337, 15) (9779, 15) (9779, 15) (29337,) (9779,) (9779,)\n",
            "0.79\n"
          ]
        },
        {
          "output_type": "stream",
          "name": "stderr",
          "text": [
            "/usr/local/lib/python3.7/dist-packages/sklearn/linear_model/_logistic.py:940: ConvergenceWarning: lbfgs failed to converge (status=1):\n",
            "STOP: TOTAL NO. of ITERATIONS REACHED LIMIT.\n",
            "\n",
            "Increase the number of iterations (max_iter) or scale the data as shown in:\n",
            "    https://scikit-learn.org/stable/modules/preprocessing.html\n",
            "Please also refer to the documentation for alternative solver options:\n",
            "    https://scikit-learn.org/stable/modules/linear_model.html#logistic-regression\n",
            "  extra_warning_msg=_LOGISTIC_SOLVER_CONVERGENCE_MSG)\n"
          ]
        }
      ]
    },
    {
      "cell_type": "markdown",
      "metadata": {
        "id": "T8g4Wmia8JhB"
      },
      "source": [
        "Question 5"
      ]
    },
    {
      "cell_type": "code",
      "metadata": {
        "colab": {
          "base_uri": "https://localhost:8080/"
        },
        "id": "1cQ9N4JQnCAB",
        "outputId": "66b6eb80-090b-4e0a-cf24-e656514a228c"
      },
      "source": [
        "accuracy_vector=[]\n",
        "for i in range(0,len(features)-1):\n",
        "  #features[0:i]\n",
        "  features_new=features[0:i]+features[i+1:]\n",
        "  #print(features_new)\n",
        "  X_train,X_test,X_val,y_train,y_test,y_val=prepare_data(df,features_new)\n",
        "  #print(X_train.shape,X_test.shape,X_val.shape,y_train.shape,y_test.shape,y_val.shape)\n",
        "  model = LogisticRegression(solver='lbfgs', C=1.0, random_state=42)\n",
        "  model.fit(X_train,y_train)\n",
        "  y_pred=model.predict_proba(X_val)[:,1]\n",
        "  y_pred=(y_pred>0.5).astype(int)\n",
        "  accuracy_vector.append(round((y_val==y_pred).mean(),4))\n",
        "  #print(accuracy_vector[-1])\n",
        "\n",
        "\n"
      ],
      "execution_count": 218,
      "outputs": [
        {
          "output_type": "stream",
          "name": "stdout",
          "text": [
            "['availability_365', 'calculated_host_listings_count', 'latitude', 'longitude', 'minimum_nights', 'number_of_reviews', 'reviews_per_month', 'room_type=Entire home/apt', 'room_type=Private room', 'room_type=Shared room']\n",
            "['availability_365', 'calculated_host_listings_count', 'latitude', 'longitude', 'minimum_nights', 'neighbourhood_group=Bronx', 'neighbourhood_group=Brooklyn', 'neighbourhood_group=Manhattan', 'neighbourhood_group=Queens', 'neighbourhood_group=Staten Island', 'number_of_reviews', 'reviews_per_month']\n"
          ]
        },
        {
          "output_type": "stream",
          "name": "stderr",
          "text": [
            "/usr/local/lib/python3.7/dist-packages/sklearn/linear_model/_logistic.py:940: ConvergenceWarning: lbfgs failed to converge (status=1):\n",
            "STOP: TOTAL NO. of ITERATIONS REACHED LIMIT.\n",
            "\n",
            "Increase the number of iterations (max_iter) or scale the data as shown in:\n",
            "    https://scikit-learn.org/stable/modules/preprocessing.html\n",
            "Please also refer to the documentation for alternative solver options:\n",
            "    https://scikit-learn.org/stable/modules/linear_model.html#logistic-regression\n",
            "  extra_warning_msg=_LOGISTIC_SOLVER_CONVERGENCE_MSG)\n"
          ]
        },
        {
          "output_type": "stream",
          "name": "stdout",
          "text": [
            "['availability_365', 'calculated_host_listings_count', 'longitude', 'minimum_nights', 'neighbourhood_group=Bronx', 'neighbourhood_group=Brooklyn', 'neighbourhood_group=Manhattan', 'neighbourhood_group=Queens', 'neighbourhood_group=Staten Island', 'number_of_reviews', 'reviews_per_month', 'room_type=Entire home/apt', 'room_type=Private room', 'room_type=Shared room']\n"
          ]
        },
        {
          "output_type": "stream",
          "name": "stderr",
          "text": [
            "/usr/local/lib/python3.7/dist-packages/sklearn/linear_model/_logistic.py:940: ConvergenceWarning: lbfgs failed to converge (status=1):\n",
            "STOP: TOTAL NO. of ITERATIONS REACHED LIMIT.\n",
            "\n",
            "Increase the number of iterations (max_iter) or scale the data as shown in:\n",
            "    https://scikit-learn.org/stable/modules/preprocessing.html\n",
            "Please also refer to the documentation for alternative solver options:\n",
            "    https://scikit-learn.org/stable/modules/linear_model.html#logistic-regression\n",
            "  extra_warning_msg=_LOGISTIC_SOLVER_CONVERGENCE_MSG)\n"
          ]
        },
        {
          "output_type": "stream",
          "name": "stdout",
          "text": [
            "['availability_365', 'calculated_host_listings_count', 'latitude', 'minimum_nights', 'neighbourhood_group=Bronx', 'neighbourhood_group=Brooklyn', 'neighbourhood_group=Manhattan', 'neighbourhood_group=Queens', 'neighbourhood_group=Staten Island', 'number_of_reviews', 'reviews_per_month', 'room_type=Entire home/apt', 'room_type=Private room', 'room_type=Shared room']\n"
          ]
        },
        {
          "output_type": "stream",
          "name": "stderr",
          "text": [
            "/usr/local/lib/python3.7/dist-packages/sklearn/linear_model/_logistic.py:940: ConvergenceWarning: lbfgs failed to converge (status=1):\n",
            "STOP: TOTAL NO. of ITERATIONS REACHED LIMIT.\n",
            "\n",
            "Increase the number of iterations (max_iter) or scale the data as shown in:\n",
            "    https://scikit-learn.org/stable/modules/preprocessing.html\n",
            "Please also refer to the documentation for alternative solver options:\n",
            "    https://scikit-learn.org/stable/modules/linear_model.html#logistic-regression\n",
            "  extra_warning_msg=_LOGISTIC_SOLVER_CONVERGENCE_MSG)\n"
          ]
        },
        {
          "output_type": "stream",
          "name": "stdout",
          "text": [
            "['calculated_host_listings_count', 'latitude', 'longitude', 'minimum_nights', 'neighbourhood_group=Bronx', 'neighbourhood_group=Brooklyn', 'neighbourhood_group=Manhattan', 'neighbourhood_group=Queens', 'neighbourhood_group=Staten Island', 'number_of_reviews', 'reviews_per_month', 'room_type=Entire home/apt', 'room_type=Private room', 'room_type=Shared room']\n"
          ]
        },
        {
          "output_type": "stream",
          "name": "stderr",
          "text": [
            "/usr/local/lib/python3.7/dist-packages/sklearn/linear_model/_logistic.py:940: ConvergenceWarning: lbfgs failed to converge (status=1):\n",
            "STOP: TOTAL NO. of ITERATIONS REACHED LIMIT.\n",
            "\n",
            "Increase the number of iterations (max_iter) or scale the data as shown in:\n",
            "    https://scikit-learn.org/stable/modules/preprocessing.html\n",
            "Please also refer to the documentation for alternative solver options:\n",
            "    https://scikit-learn.org/stable/modules/linear_model.html#logistic-regression\n",
            "  extra_warning_msg=_LOGISTIC_SOLVER_CONVERGENCE_MSG)\n"
          ]
        },
        {
          "output_type": "stream",
          "name": "stdout",
          "text": [
            "['availability_365', 'calculated_host_listings_count', 'latitude', 'longitude', 'neighbourhood_group=Bronx', 'neighbourhood_group=Brooklyn', 'neighbourhood_group=Manhattan', 'neighbourhood_group=Queens', 'neighbourhood_group=Staten Island', 'number_of_reviews', 'reviews_per_month', 'room_type=Entire home/apt', 'room_type=Private room', 'room_type=Shared room']\n"
          ]
        },
        {
          "output_type": "stream",
          "name": "stderr",
          "text": [
            "/usr/local/lib/python3.7/dist-packages/sklearn/linear_model/_logistic.py:940: ConvergenceWarning: lbfgs failed to converge (status=1):\n",
            "STOP: TOTAL NO. of ITERATIONS REACHED LIMIT.\n",
            "\n",
            "Increase the number of iterations (max_iter) or scale the data as shown in:\n",
            "    https://scikit-learn.org/stable/modules/preprocessing.html\n",
            "Please also refer to the documentation for alternative solver options:\n",
            "    https://scikit-learn.org/stable/modules/linear_model.html#logistic-regression\n",
            "  extra_warning_msg=_LOGISTIC_SOLVER_CONVERGENCE_MSG)\n"
          ]
        },
        {
          "output_type": "stream",
          "name": "stdout",
          "text": [
            "['availability_365', 'calculated_host_listings_count', 'latitude', 'longitude', 'minimum_nights', 'neighbourhood_group=Bronx', 'neighbourhood_group=Brooklyn', 'neighbourhood_group=Manhattan', 'neighbourhood_group=Queens', 'neighbourhood_group=Staten Island', 'reviews_per_month', 'room_type=Entire home/apt', 'room_type=Private room', 'room_type=Shared room']\n"
          ]
        },
        {
          "output_type": "stream",
          "name": "stderr",
          "text": [
            "/usr/local/lib/python3.7/dist-packages/sklearn/linear_model/_logistic.py:940: ConvergenceWarning: lbfgs failed to converge (status=1):\n",
            "STOP: TOTAL NO. of ITERATIONS REACHED LIMIT.\n",
            "\n",
            "Increase the number of iterations (max_iter) or scale the data as shown in:\n",
            "    https://scikit-learn.org/stable/modules/preprocessing.html\n",
            "Please also refer to the documentation for alternative solver options:\n",
            "    https://scikit-learn.org/stable/modules/linear_model.html#logistic-regression\n",
            "  extra_warning_msg=_LOGISTIC_SOLVER_CONVERGENCE_MSG)\n"
          ]
        },
        {
          "output_type": "stream",
          "name": "stdout",
          "text": [
            "['availability_365', 'calculated_host_listings_count', 'latitude', 'longitude', 'minimum_nights', 'neighbourhood_group=Bronx', 'neighbourhood_group=Brooklyn', 'neighbourhood_group=Manhattan', 'neighbourhood_group=Queens', 'neighbourhood_group=Staten Island', 'number_of_reviews', 'room_type=Entire home/apt', 'room_type=Private room', 'room_type=Shared room']\n"
          ]
        },
        {
          "output_type": "stream",
          "name": "stderr",
          "text": [
            "/usr/local/lib/python3.7/dist-packages/sklearn/linear_model/_logistic.py:940: ConvergenceWarning: lbfgs failed to converge (status=1):\n",
            "STOP: TOTAL NO. of ITERATIONS REACHED LIMIT.\n",
            "\n",
            "Increase the number of iterations (max_iter) or scale the data as shown in:\n",
            "    https://scikit-learn.org/stable/modules/preprocessing.html\n",
            "Please also refer to the documentation for alternative solver options:\n",
            "    https://scikit-learn.org/stable/modules/linear_model.html#logistic-regression\n",
            "  extra_warning_msg=_LOGISTIC_SOLVER_CONVERGENCE_MSG)\n"
          ]
        },
        {
          "output_type": "stream",
          "name": "stdout",
          "text": [
            "['availability_365', 'latitude', 'longitude', 'minimum_nights', 'neighbourhood_group=Bronx', 'neighbourhood_group=Brooklyn', 'neighbourhood_group=Manhattan', 'neighbourhood_group=Queens', 'neighbourhood_group=Staten Island', 'number_of_reviews', 'reviews_per_month', 'room_type=Entire home/apt', 'room_type=Private room', 'room_type=Shared room']\n"
          ]
        },
        {
          "output_type": "stream",
          "name": "stderr",
          "text": [
            "/usr/local/lib/python3.7/dist-packages/sklearn/linear_model/_logistic.py:940: ConvergenceWarning: lbfgs failed to converge (status=1):\n",
            "STOP: TOTAL NO. of ITERATIONS REACHED LIMIT.\n",
            "\n",
            "Increase the number of iterations (max_iter) or scale the data as shown in:\n",
            "    https://scikit-learn.org/stable/modules/preprocessing.html\n",
            "Please also refer to the documentation for alternative solver options:\n",
            "    https://scikit-learn.org/stable/modules/linear_model.html#logistic-regression\n",
            "  extra_warning_msg=_LOGISTIC_SOLVER_CONVERGENCE_MSG)\n"
          ]
        }
      ]
    },
    {
      "cell_type": "code",
      "metadata": {
        "colab": {
          "base_uri": "https://localhost:8080/",
          "height": 222
        },
        "id": "U9B6xTxRs1TD",
        "outputId": "4d1fbd77-b6ff-410c-e3ae-5eb9fc749da9"
      },
      "source": [
        "acc_diff=accuracy_vector-accuracy\n",
        "res = \"\\n\".join(\"{} {}\".format(x, y) for x, y in zip(features[:-1], acc_diff.round(5)))\n",
        "print(res)\n",
        "min=abs(acc_diff).min()\n",
        "index=np.argwhere(abs(acc_diff)==min)\n",
        "print(index[0])\n",
        "features[index[0][0]]"
      ],
      "execution_count": 219,
      "outputs": [
        {
          "output_type": "stream",
          "name": "stdout",
          "text": [
            "neighbourhood_group -0.0399\n",
            "room_type -0.0767\n",
            "latitude -0.0039\n",
            "longitude -0.004\n",
            "availability_365 -0.0091\n",
            "minimum_nights -0.0053\n",
            "number_of_reviews -0.0033\n",
            "reviews_per_month -0.0051\n",
            "calculated_host_listings_count -0.0037\n",
            "[6]\n"
          ]
        },
        {
          "output_type": "execute_result",
          "data": {
            "application/vnd.google.colaboratory.intrinsic+json": {
              "type": "string"
            },
            "text/plain": [
              "'number_of_reviews'"
            ]
          },
          "metadata": {},
          "execution_count": 219
        }
      ]
    },
    {
      "cell_type": "markdown",
      "metadata": {
        "id": "6OAAVurlzqit"
      },
      "source": [
        "Question 6"
      ]
    },
    {
      "cell_type": "code",
      "metadata": {
        "colab": {
          "base_uri": "https://localhost:8080/"
        },
        "id": "Tdno9IItwz7j",
        "outputId": "6205866f-2aea-4dbd-92a3-406e1d752152"
      },
      "source": [
        "df_work=df[features]\n",
        "df_train_full,df_test=train_test_split(df_work,test_size=0.2,random_state=42)\n",
        "df_train,df_val=train_test_split(df_train_full,test_size=0.25,random_state=42)\n",
        "y_train=np.log1p(df_train['price'].values)\n",
        "y_test=np.log1p(df_test['price'].values)\n",
        "y_val=np.log1p(df_val['price'].values)\n",
        "del df_train['price']\n",
        "del df_test['price']\n",
        "del df_val['price']\n",
        "train_dict=df_train.to_dict(orient='records')\n",
        "test_dict=df_test.to_dict(orient='records')\n",
        "val_dict=df_val.to_dict(orient='records')\n",
        "dv=DictVectorizer(sparse=False)\n",
        "dv.fit(train_dict)\n",
        "print(dv.get_feature_names())\n",
        "X_train=dv.transform(train_dict)\n",
        "X_test=dv.transform(test_dict)\n",
        "X_val=dv.transform(val_dict)"
      ],
      "execution_count": 220,
      "outputs": [
        {
          "output_type": "stream",
          "name": "stdout",
          "text": [
            "['availability_365', 'calculated_host_listings_count', 'latitude', 'longitude', 'minimum_nights', 'neighbourhood_group=Bronx', 'neighbourhood_group=Brooklyn', 'neighbourhood_group=Manhattan', 'neighbourhood_group=Queens', 'neighbourhood_group=Staten Island', 'number_of_reviews', 'reviews_per_month', 'room_type=Entire home/apt', 'room_type=Private room', 'room_type=Shared room']\n"
          ]
        }
      ]
    },
    {
      "cell_type": "code",
      "metadata": {
        "id": "a7mZv5a_4nzZ"
      },
      "source": [
        "def my_rmse(y_pred,y_train):\n",
        "  serr=(y_pred-y_train)**2\n",
        "  m_serr=serr.mean()\n",
        "  return np.sqrt(m_serr)\n"
      ],
      "execution_count": 221,
      "outputs": []
    },
    {
      "cell_type": "code",
      "metadata": {
        "id": "2khD00fI0h1F"
      },
      "source": [
        "from sklearn.linear_model import Ridge\n"
      ],
      "execution_count": 222,
      "outputs": []
    },
    {
      "cell_type": "code",
      "metadata": {
        "colab": {
          "base_uri": "https://localhost:8080/"
        },
        "id": "EYmFlSuN4iSn",
        "outputId": "f18d3e8f-8432-41f0-b92e-21842ef14457"
      },
      "source": [
        "rmse_val=[]\n",
        "alpha=[0, 0.01, 0.1, 1, 10]\n",
        "for val in alpha:\n",
        "  clf=Ridge(alpha=val)\n",
        "  clf.fit(X_train, y_train)\n",
        "  y_pred=clf.predict(X_val)\n",
        "  rmse_val.append(round(my_rmse(y_pred,y_val),3))\n",
        "print(rmse_val)\n"
      ],
      "execution_count": 223,
      "outputs": [
        {
          "output_type": "stream",
          "name": "stdout",
          "text": [
            "[0.497, 0.497, 0.497, 0.497, 0.498]\n"
          ]
        }
      ]
    },
    {
      "cell_type": "code",
      "metadata": {
        "id": "sHksRHhm6rvl"
      },
      "source": [
        ""
      ],
      "execution_count": 223,
      "outputs": []
    }
  ]
}