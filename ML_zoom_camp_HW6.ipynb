{
  "nbformat": 4,
  "nbformat_minor": 0,
  "metadata": {
    "colab": {
      "name": "ML_zoom_camp_HW6.ipynb",
      "provenance": [],
      "collapsed_sections": [],
      "authorship_tag": "ABX9TyMxQsS+pntgcrrZfwUbf2CG",
      "include_colab_link": true
    },
    "kernelspec": {
      "name": "python3",
      "display_name": "Python 3"
    },
    "language_info": {
      "name": "python"
    }
  },
  "cells": [
    {
      "cell_type": "markdown",
      "metadata": {
        "id": "view-in-github",
        "colab_type": "text"
      },
      "source": [
        "<a href=\"https://colab.research.google.com/github/kmiyasararafath/ML_ZOOMCAMP/blob/main/ML_zoom_camp_HW6.ipynb\" target=\"_parent\"><img src=\"https://colab.research.google.com/assets/colab-badge.svg\" alt=\"Open In Colab\"/></a>"
      ]
    },
    {
      "cell_type": "markdown",
      "metadata": {
        "id": "SxsviLlakxQi"
      },
      "source": [
        "ML ZOOM CAMP HOME WORK 6"
      ]
    },
    {
      "cell_type": "markdown",
      "metadata": {
        "id": "m0yxHwnzlPZQ"
      },
      "source": [
        "\n",
        "6.10 Homework\n",
        "\n",
        "The goal of this homework is to create a tree-based regression model for prediction apartment prices (column 'price').\n",
        "\n",
        "In this homework we'll again use the New York City Airbnb Open Data dataset - the same one we used in homework 2 and 3.\n",
        "\n",
        "You can take it from Kaggle or download from here if you don't want to sign up to Kaggle.\n",
        "\n",
        "Let's load the data:\n"
      ]
    },
    {
      "cell_type": "code",
      "metadata": {
        "id": "JHw31iqmkv7D"
      },
      "source": [
        "import pandas as pd\n",
        "import numpy as np\n",
        "\n",
        "import matplotlib.pyplot as plt\n",
        "import seaborn as sns\n",
        "\n",
        "%matplotlib inline"
      ],
      "execution_count": 1,
      "outputs": []
    },
    {
      "cell_type": "code",
      "metadata": {
        "colab": {
          "base_uri": "https://localhost:8080/"
        },
        "id": "EjufnkQVlp-I",
        "outputId": "d30269df-eddc-48d6-ecf7-5f513c882190"
      },
      "source": [
        "!wget https://raw.githubusercontent.com/alexeygrigorev/datasets/master/AB_NYC_2019.csv"
      ],
      "execution_count": 2,
      "outputs": [
        {
          "output_type": "stream",
          "name": "stdout",
          "text": [
            "--2021-10-20 08:25:29--  https://raw.githubusercontent.com/alexeygrigorev/datasets/master/AB_NYC_2019.csv\n",
            "Resolving raw.githubusercontent.com (raw.githubusercontent.com)... 185.199.108.133, 185.199.109.133, 185.199.110.133, ...\n",
            "Connecting to raw.githubusercontent.com (raw.githubusercontent.com)|185.199.108.133|:443... connected.\n",
            "HTTP request sent, awaiting response... 200 OK\n",
            "Length: 7077973 (6.8M) [text/plain]\n",
            "Saving to: ‘AB_NYC_2019.csv’\n",
            "\n",
            "AB_NYC_2019.csv     100%[===================>]   6.75M  --.-KB/s    in 0.07s   \n",
            "\n",
            "2021-10-20 08:25:29 (94.4 MB/s) - ‘AB_NYC_2019.csv’ saved [7077973/7077973]\n",
            "\n"
          ]
        }
      ]
    },
    {
      "cell_type": "code",
      "metadata": {
        "id": "R0ayqGVzlUMY"
      },
      "source": [
        "columns = [\n",
        "    'neighbourhood_group', 'room_type', 'latitude', 'longitude',\n",
        "    'minimum_nights', 'number_of_reviews','reviews_per_month',\n",
        "    'calculated_host_listings_count', 'availability_365',\n",
        "    'price'\n",
        "]\n",
        "\n",
        "df = pd.read_csv('AB_NYC_2019.csv', usecols=columns)\n",
        "df.reviews_per_month = df.reviews_per_month.fillna(0)"
      ],
      "execution_count": 3,
      "outputs": []
    },
    {
      "cell_type": "code",
      "metadata": {
        "colab": {
          "base_uri": "https://localhost:8080/",
          "height": 424
        },
        "id": "OhA2Iu6mlt7X",
        "outputId": "69574219-cb07-4eda-cf1e-49f6d1e70f4f"
      },
      "source": [
        "df"
      ],
      "execution_count": 4,
      "outputs": [
        {
          "output_type": "execute_result",
          "data": {
            "text/html": [
              "<div>\n",
              "<style scoped>\n",
              "    .dataframe tbody tr th:only-of-type {\n",
              "        vertical-align: middle;\n",
              "    }\n",
              "\n",
              "    .dataframe tbody tr th {\n",
              "        vertical-align: top;\n",
              "    }\n",
              "\n",
              "    .dataframe thead th {\n",
              "        text-align: right;\n",
              "    }\n",
              "</style>\n",
              "<table border=\"1\" class=\"dataframe\">\n",
              "  <thead>\n",
              "    <tr style=\"text-align: right;\">\n",
              "      <th></th>\n",
              "      <th>neighbourhood_group</th>\n",
              "      <th>latitude</th>\n",
              "      <th>longitude</th>\n",
              "      <th>room_type</th>\n",
              "      <th>price</th>\n",
              "      <th>minimum_nights</th>\n",
              "      <th>number_of_reviews</th>\n",
              "      <th>reviews_per_month</th>\n",
              "      <th>calculated_host_listings_count</th>\n",
              "      <th>availability_365</th>\n",
              "    </tr>\n",
              "  </thead>\n",
              "  <tbody>\n",
              "    <tr>\n",
              "      <th>0</th>\n",
              "      <td>Brooklyn</td>\n",
              "      <td>40.64749</td>\n",
              "      <td>-73.97237</td>\n",
              "      <td>Private room</td>\n",
              "      <td>149</td>\n",
              "      <td>1</td>\n",
              "      <td>9</td>\n",
              "      <td>0.21</td>\n",
              "      <td>6</td>\n",
              "      <td>365</td>\n",
              "    </tr>\n",
              "    <tr>\n",
              "      <th>1</th>\n",
              "      <td>Manhattan</td>\n",
              "      <td>40.75362</td>\n",
              "      <td>-73.98377</td>\n",
              "      <td>Entire home/apt</td>\n",
              "      <td>225</td>\n",
              "      <td>1</td>\n",
              "      <td>45</td>\n",
              "      <td>0.38</td>\n",
              "      <td>2</td>\n",
              "      <td>355</td>\n",
              "    </tr>\n",
              "    <tr>\n",
              "      <th>2</th>\n",
              "      <td>Manhattan</td>\n",
              "      <td>40.80902</td>\n",
              "      <td>-73.94190</td>\n",
              "      <td>Private room</td>\n",
              "      <td>150</td>\n",
              "      <td>3</td>\n",
              "      <td>0</td>\n",
              "      <td>0.00</td>\n",
              "      <td>1</td>\n",
              "      <td>365</td>\n",
              "    </tr>\n",
              "    <tr>\n",
              "      <th>3</th>\n",
              "      <td>Brooklyn</td>\n",
              "      <td>40.68514</td>\n",
              "      <td>-73.95976</td>\n",
              "      <td>Entire home/apt</td>\n",
              "      <td>89</td>\n",
              "      <td>1</td>\n",
              "      <td>270</td>\n",
              "      <td>4.64</td>\n",
              "      <td>1</td>\n",
              "      <td>194</td>\n",
              "    </tr>\n",
              "    <tr>\n",
              "      <th>4</th>\n",
              "      <td>Manhattan</td>\n",
              "      <td>40.79851</td>\n",
              "      <td>-73.94399</td>\n",
              "      <td>Entire home/apt</td>\n",
              "      <td>80</td>\n",
              "      <td>10</td>\n",
              "      <td>9</td>\n",
              "      <td>0.10</td>\n",
              "      <td>1</td>\n",
              "      <td>0</td>\n",
              "    </tr>\n",
              "    <tr>\n",
              "      <th>...</th>\n",
              "      <td>...</td>\n",
              "      <td>...</td>\n",
              "      <td>...</td>\n",
              "      <td>...</td>\n",
              "      <td>...</td>\n",
              "      <td>...</td>\n",
              "      <td>...</td>\n",
              "      <td>...</td>\n",
              "      <td>...</td>\n",
              "      <td>...</td>\n",
              "    </tr>\n",
              "    <tr>\n",
              "      <th>48890</th>\n",
              "      <td>Brooklyn</td>\n",
              "      <td>40.67853</td>\n",
              "      <td>-73.94995</td>\n",
              "      <td>Private room</td>\n",
              "      <td>70</td>\n",
              "      <td>2</td>\n",
              "      <td>0</td>\n",
              "      <td>0.00</td>\n",
              "      <td>2</td>\n",
              "      <td>9</td>\n",
              "    </tr>\n",
              "    <tr>\n",
              "      <th>48891</th>\n",
              "      <td>Brooklyn</td>\n",
              "      <td>40.70184</td>\n",
              "      <td>-73.93317</td>\n",
              "      <td>Private room</td>\n",
              "      <td>40</td>\n",
              "      <td>4</td>\n",
              "      <td>0</td>\n",
              "      <td>0.00</td>\n",
              "      <td>2</td>\n",
              "      <td>36</td>\n",
              "    </tr>\n",
              "    <tr>\n",
              "      <th>48892</th>\n",
              "      <td>Manhattan</td>\n",
              "      <td>40.81475</td>\n",
              "      <td>-73.94867</td>\n",
              "      <td>Entire home/apt</td>\n",
              "      <td>115</td>\n",
              "      <td>10</td>\n",
              "      <td>0</td>\n",
              "      <td>0.00</td>\n",
              "      <td>1</td>\n",
              "      <td>27</td>\n",
              "    </tr>\n",
              "    <tr>\n",
              "      <th>48893</th>\n",
              "      <td>Manhattan</td>\n",
              "      <td>40.75751</td>\n",
              "      <td>-73.99112</td>\n",
              "      <td>Shared room</td>\n",
              "      <td>55</td>\n",
              "      <td>1</td>\n",
              "      <td>0</td>\n",
              "      <td>0.00</td>\n",
              "      <td>6</td>\n",
              "      <td>2</td>\n",
              "    </tr>\n",
              "    <tr>\n",
              "      <th>48894</th>\n",
              "      <td>Manhattan</td>\n",
              "      <td>40.76404</td>\n",
              "      <td>-73.98933</td>\n",
              "      <td>Private room</td>\n",
              "      <td>90</td>\n",
              "      <td>7</td>\n",
              "      <td>0</td>\n",
              "      <td>0.00</td>\n",
              "      <td>1</td>\n",
              "      <td>23</td>\n",
              "    </tr>\n",
              "  </tbody>\n",
              "</table>\n",
              "<p>48895 rows × 10 columns</p>\n",
              "</div>"
            ],
            "text/plain": [
              "      neighbourhood_group  ...  availability_365\n",
              "0                Brooklyn  ...               365\n",
              "1               Manhattan  ...               355\n",
              "2               Manhattan  ...               365\n",
              "3                Brooklyn  ...               194\n",
              "4               Manhattan  ...                 0\n",
              "...                   ...  ...               ...\n",
              "48890            Brooklyn  ...                 9\n",
              "48891            Brooklyn  ...                36\n",
              "48892           Manhattan  ...                27\n",
              "48893           Manhattan  ...                 2\n",
              "48894           Manhattan  ...                23\n",
              "\n",
              "[48895 rows x 10 columns]"
            ]
          },
          "metadata": {},
          "execution_count": 4
        }
      ]
    },
    {
      "cell_type": "markdown",
      "metadata": {
        "id": "WcN7j3eXl_Wv"
      },
      "source": [
        "\n",
        "*   Apply the log tranform to price\n",
        "*   Do train/validation/test split with 60%/20%/20% distribution.\n",
        "*   Use the train_test_split function and set the random_state parameter to 1\n",
        "\n",
        "\n",
        "\n",
        "\n",
        "\n"
      ]
    },
    {
      "cell_type": "code",
      "metadata": {
        "colab": {
          "base_uri": "https://localhost:8080/",
          "height": 298
        },
        "id": "NTwQ2CWslvxn",
        "outputId": "9ef357f1-475f-4669-8f3a-eb84bf80353e"
      },
      "source": [
        "sns.histplot(df.price) \n"
      ],
      "execution_count": 5,
      "outputs": [
        {
          "output_type": "execute_result",
          "data": {
            "text/plain": [
              "<matplotlib.axes._subplots.AxesSubplot at 0x7f7aa441ff90>"
            ]
          },
          "metadata": {},
          "execution_count": 5
        },
        {
          "output_type": "display_data",
          "data": {
            "image/png": "[encoded data removed]",
            "text/plain": [
              "<Figure size 432x288 with 1 Axes>"
            ]
          },
          "metadata": {
            "needs_background": "light"
          }
        }
      ]
    },
    {
      "cell_type": "code",
      "metadata": {
        "id": "7qUfonhRnJa3"
      },
      "source": [
        "df.price=np.log1p(df.price)"
      ],
      "execution_count": 6,
      "outputs": []
    },
    {
      "cell_type": "code",
      "metadata": {
        "colab": {
          "base_uri": "https://localhost:8080/",
          "height": 298
        },
        "id": "8xb72EdmnUtH",
        "outputId": "02a53864-cc9c-419b-87fb-e820ea93447b"
      },
      "source": [
        "sns.histplot(df.price) "
      ],
      "execution_count": 7,
      "outputs": [
        {
          "output_type": "execute_result",
          "data": {
            "text/plain": [
              "<matplotlib.axes._subplots.AxesSubplot at 0x7f7aa1e3d690>"
            ]
          },
          "metadata": {},
          "execution_count": 7
        },
        {
          "output_type": "display_data",
          "data": {
            "image/png": "[encoded data removed]",
            "text/plain": [
              "<Figure size 432x288 with 1 Axes>"
            ]
          },
          "metadata": {
            "needs_background": "light"
          }
        }
      ]
    },
    {
      "cell_type": "code",
      "metadata": {
        "id": "Knn08PKDnXPo"
      },
      "source": [
        "from sklearn.model_selection import train_test_split\n",
        "df_train_full,df_test=train_test_split(df,test_size=0.2,random_state=1)\n",
        "df_train,df_val=train_test_split(df_train_full,test_size=0.25,random_state=1)\n",
        "y_train=df_train['price']\n",
        "y_val=df_val['price']\n",
        "y_test=df_test['price']\n",
        "del df_train['price']\n",
        "del df_val['price']\n",
        "del df_test['price']"
      ],
      "execution_count": 11,
      "outputs": []
    },
    {
      "cell_type": "markdown",
      "metadata": {
        "id": "5X29YsP7o9rJ"
      },
      "source": [
        "Now, use DictVectorizer to turn train and validation into matrices:"
      ]
    },
    {
      "cell_type": "code",
      "metadata": {
        "id": "lCCIbmPrnpF3"
      },
      "source": [
        "from sklearn.feature_extraction import DictVectorizer\n",
        "train_dict=df_train.to_dict(orient='records')\n",
        "val_dict=df_val.to_dict(orient='records')\n",
        "test_dict=df_test.to_dict(orient='records')\n",
        "dv=DictVectorizer(sparse=False)\n",
        "dv.fit(train_dict)\n",
        "feature_names=dv.get_feature_names()\n",
        "X_train=dv.transform(train_dict)\n",
        "X_val=dv.transform(val_dict)\n",
        "X_test=dv.transform(test_dict)\n"
      ],
      "execution_count": 12,
      "outputs": []
    },
    {
      "cell_type": "markdown",
      "metadata": {
        "id": "6uH0w6TpsBSv"
      },
      "source": [
        "\n",
        "Question 1\n",
        "\n",
        "Let's train a decision tree regressor to predict the price variable.\n",
        "\n",
        "    Train a model with max_depth=1\n",
        "\n"
      ]
    },
    {
      "cell_type": "code",
      "metadata": {
        "colab": {
          "base_uri": "https://localhost:8080/"
        },
        "id": "y9mQgmhErrY3",
        "outputId": "f110a42b-3ea4-4715-84d5-bc15ab46a7ed"
      },
      "source": [
        "from sklearn.tree import DecisionTreeRegressor\n",
        "dtreg=DecisionTreeRegressor(max_depth=1)\n",
        "dtreg.fit(X_train,y_train)"
      ],
      "execution_count": 17,
      "outputs": [
        {
          "output_type": "execute_result",
          "data": {
            "text/plain": [
              "DecisionTreeRegressor(ccp_alpha=0.0, criterion='mse', max_depth=1,\n",
              "                      max_features=None, max_leaf_nodes=None,\n",
              "                      min_impurity_decrease=0.0, min_impurity_split=None,\n",
              "                      min_samples_leaf=1, min_samples_split=2,\n",
              "                      min_weight_fraction_leaf=0.0, presort='deprecated',\n",
              "                      random_state=None, splitter='best')"
            ]
          },
          "metadata": {},
          "execution_count": 17
        }
      ]
    },
    {
      "cell_type": "code",
      "metadata": {
        "colab": {
          "base_uri": "https://localhost:8080/",
          "height": 36
        },
        "id": "NBeStXnaruNn",
        "outputId": "0d22b0a3-e613-4169-a904-1c133d69e028"
      },
      "source": [
        "from sklearn.tree import export_text\n",
        "export_text(dtreg,feature_names=feature_names)"
      ],
      "execution_count": 18,
      "outputs": [
        {
          "output_type": "execute_result",
          "data": {
            "application/vnd.google.colaboratory.intrinsic+json": {
              "type": "string"
            },
            "text/plain": [
              "'|--- room_type=Entire home/apt <= 0.50\\n|   |--- value: [4.29]\\n|--- room_type=Entire home/apt >  0.50\\n|   |--- value: [5.15]\\n'"
            ]
          },
          "metadata": {},
          "execution_count": 18
        }
      ]
    },
    {
      "cell_type": "markdown",
      "metadata": {
        "id": "8xSgqeN2t9Sf"
      },
      "source": [
        "\n",
        "\n",
        "Which feature is used for splitting the data?\n",
        "\n",
        "    room_type\n",
        "    neighbourhood_group\n",
        "    number_of_reviews\n",
        "    reviews_per_month\n",
        "\n",
        "room_type"
      ]
    },
    {
      "cell_type": "markdown",
      "metadata": {
        "id": "bGbrTHm7uAqI"
      },
      "source": [
        "\n",
        "Question 2\n",
        "\n",
        "Train a random forest model with these parameters:\n",
        "\n",
        "    n_estimators=10\n",
        "    random_state=1\n",
        "    n_jobs=-1 (optional - to make training faster)\n",
        "\n"
      ]
    },
    {
      "cell_type": "code",
      "metadata": {
        "id": "CqJjk8hVw5IX"
      },
      "source": [
        "def my_rmse(y_pred,y_train):\n",
        "  serr=(y_pred-y_train)**2\n",
        "  m_serr=serr.mean()\n",
        "  return np.sqrt(m_serr)"
      ],
      "execution_count": 26,
      "outputs": []
    },
    {
      "cell_type": "code",
      "metadata": {
        "colab": {
          "base_uri": "https://localhost:8080/"
        },
        "id": "RTEqEaDwtzV4",
        "outputId": "f5ca1d76-79e5-4974-9b49-85e65691cbef"
      },
      "source": [
        "from sklearn.ensemble import RandomForestRegressor\n",
        "rf_reg=RandomForestRegressor(n_estimators=10,random_state=1)#,n_jobs=-1)\n",
        "rf_reg.fit(X_train,y_train)"
      ],
      "execution_count": 20,
      "outputs": [
        {
          "output_type": "execute_result",
          "data": {
            "text/plain": [
              "RandomForestRegressor(bootstrap=True, ccp_alpha=0.0, criterion='mse',\n",
              "                      max_depth=None, max_features='auto', max_leaf_nodes=None,\n",
              "                      max_samples=None, min_impurity_decrease=0.0,\n",
              "                      min_impurity_split=None, min_samples_leaf=1,\n",
              "                      min_samples_split=2, min_weight_fraction_leaf=0.0,\n",
              "                      n_estimators=10, n_jobs=None, oob_score=False,\n",
              "                      random_state=1, verbose=0, warm_start=False)"
            ]
          },
          "metadata": {},
          "execution_count": 20
        }
      ]
    },
    {
      "cell_type": "code",
      "metadata": {
        "colab": {
          "base_uri": "https://localhost:8080/"
        },
        "id": "grzFWITdvVJ4",
        "outputId": "2356980e-ada4-42f0-a560-2cf0d0d44b59"
      },
      "source": [
        "y_pred=rf_reg.predict(X_val)\n",
        "rmse=my_rmse(y_pred,y_val)\n",
        "print(round(rmse,3))"
      ],
      "execution_count": 27,
      "outputs": [
        {
          "output_type": "stream",
          "name": "stdout",
          "text": [
            "0.461\n"
          ]
        }
      ]
    },
    {
      "cell_type": "markdown",
      "metadata": {
        "id": "PW1S5qSXwhSf"
      },
      "source": [
        "\n",
        "\n",
        "What's the RMSE of this model on validation?\n",
        "\n",
        "    0.059\n",
        "    0.259\n",
        "    0.459\n",
        "    0.659\n",
        "\n",
        "0.459"
      ]
    },
    {
      "cell_type": "markdown",
      "metadata": {
        "id": "KnN-5394xppn"
      },
      "source": [
        "\n",
        "Question 3\n",
        "\n",
        "Now let's experiment with the n_estimators parameter\n",
        "\n",
        "    Try different values of this parameter from 10 to 200 with step 10\n",
        "    Set random_state to 1\n",
        "    Evaluate the model on the validation dataset\n",
        "\n"
      ]
    },
    {
      "cell_type": "code",
      "metadata": {
        "id": "DniJ77xswXNo"
      },
      "source": [
        "scores=[]\n",
        "for num in range(10,200,10):\n",
        "  rf_reg=RandomForestRegressor(n_estimators=num,random_state=1,n_jobs=-1)\n",
        "  rf_reg.fit(X_train,y_train)\n",
        "  y_pred=rf_reg.predict(X_val)\n",
        "  rmse=my_rmse(y_pred,y_val)\n",
        "  scores.append((num,rmse))\n"
      ],
      "execution_count": 31,
      "outputs": []
    },
    {
      "cell_type": "code",
      "metadata": {
        "colab": {
          "base_uri": "https://localhost:8080/",
          "height": 284
        },
        "id": "qLEcdtwA0Ak_",
        "outputId": "4978b0e6-8926-4daa-90a7-d04331cdfc4c"
      },
      "source": [
        "df_score=pd.DataFrame(scores,columns=['num_estimators','rmse'])\n",
        "plt.plot(df_score['num_estimators'],df_score['rmse'])"
      ],
      "execution_count": 34,
      "outputs": [
        {
          "output_type": "execute_result",
          "data": {
            "text/plain": [
              "[<matplotlib.lines.Line2D at 0x7f7a99566f90>]"
            ]
          },
          "metadata": {},
          "execution_count": 34
        },
        {
          "output_type": "display_data",
          "data": {
            "image/png": "[encoded data removed]",
            "text/plain": [
              "<Figure size 432x288 with 1 Axes>"
            ]
          },
          "metadata": {
            "needs_background": "light"
          }
        }
      ]
    },
    {
      "cell_type": "markdown",
      "metadata": {
        "id": "1j5loyhwy0OK"
      },
      "source": [
        "\n",
        "\n",
        "After which value of n_estimators does RMSE stop improving?\n",
        "\n",
        "    10\n",
        "    50\n",
        "    70\n",
        "    120\n",
        "\n",
        "120\n"
      ]
    },
    {
      "cell_type": "markdown",
      "metadata": {
        "id": "A5UFAR5Uy3tY"
      },
      "source": [
        "\n",
        "Question 4\n",
        "\n",
        "Let's select the best max_depth:\n",
        "\n",
        "    Try different values of max_depth: [10, 15, 20, 25]\n",
        "    For each of these values, try different values of n_estimators from 10 till 200 (with step 10)\n",
        "    Fix the random seed: random_state=1\n",
        "\n"
      ]
    },
    {
      "cell_type": "code",
      "metadata": {
        "id": "oJDq6F6Gyoro"
      },
      "source": [
        "scores=[]\n",
        "for max_depth in [10, 15, 20, 25]:\n",
        "  for num in range(10,200,10):\n",
        "    rf_reg=RandomForestRegressor(n_estimators=num,max_depth=max_depth,random_state=1,n_jobs=-1)\n",
        "    rf_reg.fit(X_train,y_train)\n",
        "    y_pred=rf_reg.predict(X_val)\n",
        "    rmse=my_rmse(y_pred,y_val)\n",
        "    scores.append((max_depth,num,rmse))"
      ],
      "execution_count": 35,
      "outputs": []
    },
    {
      "cell_type": "code",
      "metadata": {
        "colab": {
          "base_uri": "https://localhost:8080/",
          "height": 206
        },
        "id": "Y3l2QtfV1QMJ",
        "outputId": "a468ff68-a193-4ea2-82fb-815ef542fea4"
      },
      "source": [
        "scores\n",
        "df_scores=pd.DataFrame(scores,columns=['max_depth','num_estimators','rmse'])\n",
        "df_scores.head()"
      ],
      "execution_count": 42,
      "outputs": [
        {
          "output_type": "execute_result",
          "data": {
            "text/html": [
              "<div>\n",
              "<style scoped>\n",
              "    .dataframe tbody tr th:only-of-type {\n",
              "        vertical-align: middle;\n",
              "    }\n",
              "\n",
              "    .dataframe tbody tr th {\n",
              "        vertical-align: top;\n",
              "    }\n",
              "\n",
              "    .dataframe thead th {\n",
              "        text-align: right;\n",
              "    }\n",
              "</style>\n",
              "<table border=\"1\" class=\"dataframe\">\n",
              "  <thead>\n",
              "    <tr style=\"text-align: right;\">\n",
              "      <th></th>\n",
              "      <th>max_depth</th>\n",
              "      <th>num_estimators</th>\n",
              "      <th>rmse</th>\n",
              "    </tr>\n",
              "  </thead>\n",
              "  <tbody>\n",
              "    <tr>\n",
              "      <th>0</th>\n",
              "      <td>10</td>\n",
              "      <td>10</td>\n",
              "      <td>0.445210</td>\n",
              "    </tr>\n",
              "    <tr>\n",
              "      <th>1</th>\n",
              "      <td>10</td>\n",
              "      <td>20</td>\n",
              "      <td>0.441888</td>\n",
              "    </tr>\n",
              "    <tr>\n",
              "      <th>2</th>\n",
              "      <td>10</td>\n",
              "      <td>30</td>\n",
              "      <td>0.441207</td>\n",
              "    </tr>\n",
              "    <tr>\n",
              "      <th>3</th>\n",
              "      <td>10</td>\n",
              "      <td>40</td>\n",
              "      <td>0.441303</td>\n",
              "    </tr>\n",
              "    <tr>\n",
              "      <th>4</th>\n",
              "      <td>10</td>\n",
              "      <td>50</td>\n",
              "      <td>0.440947</td>\n",
              "    </tr>\n",
              "  </tbody>\n",
              "</table>\n",
              "</div>"
            ],
            "text/plain": [
              "   max_depth  num_estimators      rmse\n",
              "0         10              10  0.445210\n",
              "1         10              20  0.441888\n",
              "2         10              30  0.441207\n",
              "3         10              40  0.441303\n",
              "4         10              50  0.440947"
            ]
          },
          "metadata": {},
          "execution_count": 42
        }
      ]
    },
    {
      "cell_type": "code",
      "metadata": {
        "colab": {
          "base_uri": "https://localhost:8080/",
          "height": 284
        },
        "id": "x_r6xxw97PAR",
        "outputId": "4637f75a-c980-4d83-bd6f-534a2865f1f6"
      },
      "source": [
        "for m in [10, 15, 20, 25]:\n",
        "  df_sub=df_scores[df_scores['max_depth']== m]\n",
        "  plt.plot(df_sub['num_estimators'],df_sub.rmse,label='max_depth = %d' % m)\n",
        "plt.legend()"
      ],
      "execution_count": 44,
      "outputs": [
        {
          "output_type": "execute_result",
          "data": {
            "text/plain": [
              "<matplotlib.legend.Legend at 0x7f7a99e00150>"
            ]
          },
          "metadata": {},
          "execution_count": 44
        },
        {
          "output_type": "display_data",
          "data": {
            "image/png": "[encoded data removed]",
            "text/plain": [
              "<Figure size 432x288 with 1 Axes>"
            ]
          },
          "metadata": {
            "needs_background": "light"
          }
        }
      ]
    },
    {
      "cell_type": "markdown",
      "metadata": {
        "id": "qDA28ymL1Kvg"
      },
      "source": [
        "\n",
        "\n",
        "What's the best max_depth:\n",
        "\n",
        "    10\n",
        "    15\n",
        "    20\n",
        "    25\n",
        "\n",
        "15\n"
      ]
    },
    {
      "cell_type": "markdown",
      "metadata": {
        "id": "0bDuxPBS1NJA"
      },
      "source": [
        "Bonus question (not graded):\n",
        "\n",
        "Will the answer be different if we change the seed for the model?\n"
      ]
    },
    {
      "cell_type": "code",
      "metadata": {
        "colab": {
          "base_uri": "https://localhost:8080/",
          "height": 284
        },
        "id": "YR4aF1HR3tjx",
        "outputId": "367e7538-aa50-4ea9-d403-c07df0a8e27f"
      },
      "source": [
        "scores=[]\n",
        "for max_depth in [10, 15, 20, 25]:\n",
        "  for num in range(10,200,10):\n",
        "    rf_reg=RandomForestRegressor(n_estimators=num,max_depth=max_depth,random_state=5,n_jobs=-1)\n",
        "    rf_reg.fit(X_train,y_train)\n",
        "    y_pred=rf_reg.predict(X_val)\n",
        "    rmse=my_rmse(y_pred,y_val)\n",
        "    scores.append((max_depth,num,rmse))\n",
        "  \n",
        "df_scores=pd.DataFrame(scores,columns=['max_depth','num_estimators','rmse'])\n",
        "for max_depth in [10, 15, 20, 25]:\n",
        "  df_sub=df_scores[df_scores.max_depth==max_depth]\n",
        "  plt.plot(df_sub.num_estimators,df_sub.rmse,label='max_depth = %d' % max_depth)\n",
        "plt.legend()"
      ],
      "execution_count": 45,
      "outputs": [
        {
          "output_type": "execute_result",
          "data": {
            "text/plain": [
              "<matplotlib.legend.Legend at 0x7f7a99c9c490>"
            ]
          },
          "metadata": {},
          "execution_count": 45
        },
        {
          "output_type": "display_data",
          "data": {
            "image/png": "[encoded data removed]",
            "text/plain": [
              "<Figure size 432x288 with 1 Axes>"
            ]
          },
          "metadata": {
            "needs_background": "light"
          }
        }
      ]
    },
    {
      "cell_type": "code",
      "metadata": {
        "colab": {
          "base_uri": "https://localhost:8080/"
        },
        "id": "L_Ag2FCZ9XCZ",
        "outputId": "9df76ea5-5d79-4b75-ed40-abc342f2d065"
      },
      "source": [
        ""
      ],
      "execution_count": 46,
      "outputs": [
        {
          "output_type": "execute_result",
          "data": {
            "text/plain": [
              "array([7.77310359e-02, 3.12944688e-02, 1.50174811e-01, 1.60962574e-01,\n",
              "       5.37987202e-02, 3.12098556e-04, 1.25967514e-03, 3.32614478e-02,\n",
              "       1.09752544e-03, 1.27959663e-04, 4.56216690e-02, 5.58956045e-02,\n",
              "       3.79335637e-01, 4.33200979e-03, 4.79476301e-03])"
            ]
          },
          "metadata": {},
          "execution_count": 46
        }
      ]
    },
    {
      "cell_type": "markdown",
      "metadata": {
        "id": "bu3TIN-03rwg"
      },
      "source": [
        "Question 5\n",
        "\n",
        "We can extract feature importance information from tree-based models.\n",
        "\n",
        "At each step of the decision tree learning algorith, it finds the best split. When doint it, we can calculate \"gain\" - the reduction in impurity before and after the split. This gain is quite useful in understanding what are the imporatant features for tree-based models.\n",
        "\n",
        "In Scikit-Learn, tree-based models contain this information in the feature_importances_ field.\n",
        "\n",
        "For this homework question, we'll find the most important feature:\n",
        "\n",
        "    Train the model with these parametes:\n",
        "        n_estimators=10,\n",
        "        max_depth=20,\n",
        "        random_state=1,\n",
        "        n_jobs=-1 (optional)\n",
        "    Get the feature importance information from this mode"
      ]
    },
    {
      "cell_type": "code",
      "metadata": {
        "colab": {
          "base_uri": "https://localhost:8080/"
        },
        "id": "GQtBeVnxzI-3",
        "outputId": "ab6b5cda-f972-4917-ddb3-0d8a3c964fc3"
      },
      "source": [
        "rf_reg=RandomForestRegressor(n_estimators=10,max_depth=20,random_state=1,n_jobs=-1)\n",
        "rf_reg.fit(X_train,y_train)\n",
        "rf_reg.feature_importances_\n"
      ],
      "execution_count": 48,
      "outputs": [
        {
          "output_type": "execute_result",
          "data": {
            "text/plain": [
              "array([7.65160846e-02, 3.09063525e-02, 1.52053975e-01, 1.53219337e-01,\n",
              "       5.36452300e-02, 2.83822549e-04, 1.16611621e-03, 3.40167443e-02,\n",
              "       1.15324234e-03, 1.18026952e-04, 4.35248857e-02, 5.24379349e-02,\n",
              "       3.91896837e-01, 4.52061759e-03, 4.54079353e-03])"
            ]
          },
          "metadata": {},
          "execution_count": 48
        }
      ]
    },
    {
      "cell_type": "code",
      "metadata": {
        "id": "X179L_1c_YK5"
      },
      "source": [
        "importance=[]\n",
        "for i,feature in enumerate(feature_names):\n",
        "  importance.append((feature,rf_reg.feature_importances_[i]))\n"
      ],
      "execution_count": 50,
      "outputs": []
    },
    {
      "cell_type": "code",
      "metadata": {
        "colab": {
          "base_uri": "https://localhost:8080/",
          "height": 520
        },
        "id": "bMa4an1C-zyo",
        "outputId": "089ad973-35b1-4d3e-edf0-44ea293ed025"
      },
      "source": [
        "df_importance=pd.DataFrame(importance,columns=['feature','importance'])\n",
        "df_importance.sort_values('importance',ascending=False)"
      ],
      "execution_count": 55,
      "outputs": [
        {
          "output_type": "execute_result",
          "data": {
            "text/html": [
              "<div>\n",
              "<style scoped>\n",
              "    .dataframe tbody tr th:only-of-type {\n",
              "        vertical-align: middle;\n",
              "    }\n",
              "\n",
              "    .dataframe tbody tr th {\n",
              "        vertical-align: top;\n",
              "    }\n",
              "\n",
              "    .dataframe thead th {\n",
              "        text-align: right;\n",
              "    }\n",
              "</style>\n",
              "<table border=\"1\" class=\"dataframe\">\n",
              "  <thead>\n",
              "    <tr style=\"text-align: right;\">\n",
              "      <th></th>\n",
              "      <th>feature</th>\n",
              "      <th>importance</th>\n",
              "    </tr>\n",
              "  </thead>\n",
              "  <tbody>\n",
              "    <tr>\n",
              "      <th>12</th>\n",
              "      <td>room_type=Entire home/apt</td>\n",
              "      <td>0.391897</td>\n",
              "    </tr>\n",
              "    <tr>\n",
              "      <th>3</th>\n",
              "      <td>longitude</td>\n",
              "      <td>0.153219</td>\n",
              "    </tr>\n",
              "    <tr>\n",
              "      <th>2</th>\n",
              "      <td>latitude</td>\n",
              "      <td>0.152054</td>\n",
              "    </tr>\n",
              "    <tr>\n",
              "      <th>0</th>\n",
              "      <td>availability_365</td>\n",
              "      <td>0.076516</td>\n",
              "    </tr>\n",
              "    <tr>\n",
              "      <th>4</th>\n",
              "      <td>minimum_nights</td>\n",
              "      <td>0.053645</td>\n",
              "    </tr>\n",
              "    <tr>\n",
              "      <th>11</th>\n",
              "      <td>reviews_per_month</td>\n",
              "      <td>0.052438</td>\n",
              "    </tr>\n",
              "    <tr>\n",
              "      <th>10</th>\n",
              "      <td>number_of_reviews</td>\n",
              "      <td>0.043525</td>\n",
              "    </tr>\n",
              "    <tr>\n",
              "      <th>7</th>\n",
              "      <td>neighbourhood_group=Manhattan</td>\n",
              "      <td>0.034017</td>\n",
              "    </tr>\n",
              "    <tr>\n",
              "      <th>1</th>\n",
              "      <td>calculated_host_listings_count</td>\n",
              "      <td>0.030906</td>\n",
              "    </tr>\n",
              "    <tr>\n",
              "      <th>14</th>\n",
              "      <td>room_type=Shared room</td>\n",
              "      <td>0.004541</td>\n",
              "    </tr>\n",
              "    <tr>\n",
              "      <th>13</th>\n",
              "      <td>room_type=Private room</td>\n",
              "      <td>0.004521</td>\n",
              "    </tr>\n",
              "    <tr>\n",
              "      <th>6</th>\n",
              "      <td>neighbourhood_group=Brooklyn</td>\n",
              "      <td>0.001166</td>\n",
              "    </tr>\n",
              "    <tr>\n",
              "      <th>8</th>\n",
              "      <td>neighbourhood_group=Queens</td>\n",
              "      <td>0.001153</td>\n",
              "    </tr>\n",
              "    <tr>\n",
              "      <th>5</th>\n",
              "      <td>neighbourhood_group=Bronx</td>\n",
              "      <td>0.000284</td>\n",
              "    </tr>\n",
              "    <tr>\n",
              "      <th>9</th>\n",
              "      <td>neighbourhood_group=Staten Island</td>\n",
              "      <td>0.000118</td>\n",
              "    </tr>\n",
              "  </tbody>\n",
              "</table>\n",
              "</div>"
            ],
            "text/plain": [
              "                              feature  importance\n",
              "12          room_type=Entire home/apt    0.391897\n",
              "3                           longitude    0.153219\n",
              "2                            latitude    0.152054\n",
              "0                    availability_365    0.076516\n",
              "4                      minimum_nights    0.053645\n",
              "11                  reviews_per_month    0.052438\n",
              "10                  number_of_reviews    0.043525\n",
              "7       neighbourhood_group=Manhattan    0.034017\n",
              "1      calculated_host_listings_count    0.030906\n",
              "14              room_type=Shared room    0.004541\n",
              "13             room_type=Private room    0.004521\n",
              "6        neighbourhood_group=Brooklyn    0.001166\n",
              "8          neighbourhood_group=Queens    0.001153\n",
              "5           neighbourhood_group=Bronx    0.000284\n",
              "9   neighbourhood_group=Staten Island    0.000118"
            ]
          },
          "metadata": {},
          "execution_count": 55
        }
      ]
    },
    {
      "cell_type": "markdown",
      "metadata": {
        "id": "KLRsDLTWAHZ4"
      },
      "source": [
        "\n",
        "\n",
        "What's the most important feature?\n",
        "\n",
        "    neighbourhood_group=Manhattan\n",
        "    room_type=Entire home/apt\n",
        "    longitude\n",
        "    latitude\n",
        "\n",
        "room_type=Entire home/apt"
      ]
    },
    {
      "cell_type": "markdown",
      "metadata": {
        "id": "XYgU3HQ-A5jg"
      },
      "source": [
        "\n",
        "Question 6\n",
        "\n",
        "Now let's train an XGBoost model! For this question, we'll tune the eta parameter\n",
        "\n",
        "    Install XGBoost\n",
        "    Create DMatrix for train and validation\n",
        "    Create a watchlist\n",
        "    Train a model with these parameters for 100 rounds:\n",
        "\n",
        "xgb_params = {\n",
        "    'eta': 0.3, \n",
        "    'max_depth': 6,\n",
        "    'min_child_weight': 1,\n",
        "    'objective': 'reg:squarederror',\n",
        "    'nthread': 8,\n",
        "    'seed': 1,\n",
        "    'verbosity': 1,\n",
        "}\n",
        "\n"
      ]
    },
    {
      "cell_type": "code",
      "metadata": {
        "id": "LR2Nohzt_zyY"
      },
      "source": [
        "import xgboost as xgb"
      ],
      "execution_count": 58,
      "outputs": []
    },
    {
      "cell_type": "markdown",
      "metadata": {
        "id": "okEcYtjPEPdz"
      },
      "source": [
        "Create DMatrix for train and validation"
      ]
    },
    {
      "cell_type": "code",
      "metadata": {
        "id": "PBp4_gsaAE5J"
      },
      "source": [
        "dtrain = xgb.DMatrix(X_train, label=y_train, feature_names=feature_names)\n",
        "dval = xgb.DMatrix(X_val, label=y_val, feature_names=feature_names)"
      ],
      "execution_count": 59,
      "outputs": []
    },
    {
      "cell_type": "markdown",
      "metadata": {
        "id": "4VUnr5wREtah"
      },
      "source": [
        "Create a watchlist"
      ]
    },
    {
      "cell_type": "code",
      "metadata": {
        "id": "cZreKo2QEnqJ"
      },
      "source": [
        "watchlist=[(dtrain, 'train'), (dval, 'val')]"
      ],
      "execution_count": 60,
      "outputs": []
    },
    {
      "cell_type": "code",
      "metadata": {
        "id": "3zE6e0QtFUeB"
      },
      "source": [
        "xgb_params = { 'eta': 0.3, 'max_depth': 6, 'min_child_weight': 1, 'objective': 'reg:squarederror', 'nthread': 8, 'seed': 1, 'verbosity': 1, }"
      ],
      "execution_count": 61,
      "outputs": []
    },
    {
      "cell_type": "code",
      "metadata": {
        "colab": {
          "base_uri": "https://localhost:8080/"
        },
        "id": "OR1zj936E3p6",
        "outputId": "4ef0f89a-458d-460a-a9f8-50e4cc0010a6"
      },
      "source": [
        "model=xgb.train( xgb_params,dtrain=dtrain,num_boost_round=100,evals=watchlist)"
      ],
      "execution_count": 62,
      "outputs": [
        {
          "output_type": "stream",
          "name": "stdout",
          "text": [
            "[0]\ttrain-rmse:3.02752\tval-rmse:3.02415\n",
            "[1]\ttrain-rmse:2.14667\tval-rmse:2.1439\n",
            "[2]\ttrain-rmse:1.53878\tval-rmse:1.53721\n",
            "[3]\ttrain-rmse:1.12557\tval-rmse:1.12524\n",
            "[4]\ttrain-rmse:0.851002\tval-rmse:0.851752\n",
            "[5]\ttrain-rmse:0.674904\tval-rmse:0.677523\n",
            "[6]\ttrain-rmse:0.566867\tval-rmse:0.571483\n",
            "[7]\ttrain-rmse:0.504476\tval-rmse:0.511388\n",
            "[8]\ttrain-rmse:0.469135\tval-rmse:0.477768\n",
            "[9]\ttrain-rmse:0.450101\tval-rmse:0.459656\n",
            "[10]\ttrain-rmse:0.439151\tval-rmse:0.449813\n",
            "[11]\ttrain-rmse:0.433304\tval-rmse:0.444755\n",
            "[12]\ttrain-rmse:0.42939\tval-rmse:0.442105\n",
            "[13]\ttrain-rmse:0.426859\tval-rmse:0.440504\n",
            "[14]\ttrain-rmse:0.424518\tval-rmse:0.439644\n",
            "[15]\ttrain-rmse:0.423031\tval-rmse:0.439126\n",
            "[16]\ttrain-rmse:0.420145\tval-rmse:0.437716\n",
            "[17]\ttrain-rmse:0.419024\tval-rmse:0.437486\n",
            "[18]\ttrain-rmse:0.418434\tval-rmse:0.437265\n",
            "[19]\ttrain-rmse:0.417949\tval-rmse:0.437266\n",
            "[20]\ttrain-rmse:0.417245\tval-rmse:0.437226\n",
            "[21]\ttrain-rmse:0.415279\tval-rmse:0.436491\n",
            "[22]\ttrain-rmse:0.414449\tval-rmse:0.436191\n",
            "[23]\ttrain-rmse:0.414126\tval-rmse:0.436189\n",
            "[24]\ttrain-rmse:0.413631\tval-rmse:0.436156\n",
            "[25]\ttrain-rmse:0.412681\tval-rmse:0.436174\n",
            "[26]\ttrain-rmse:0.41079\tval-rmse:0.435662\n",
            "[27]\ttrain-rmse:0.410167\tval-rmse:0.435703\n",
            "[28]\ttrain-rmse:0.408406\tval-rmse:0.43518\n",
            "[29]\ttrain-rmse:0.407929\tval-rmse:0.43521\n",
            "[30]\ttrain-rmse:0.407564\tval-rmse:0.435124\n",
            "[31]\ttrain-rmse:0.407402\tval-rmse:0.43514\n",
            "[32]\ttrain-rmse:0.406406\tval-rmse:0.434718\n",
            "[33]\ttrain-rmse:0.406284\tval-rmse:0.434722\n",
            "[34]\ttrain-rmse:0.405967\tval-rmse:0.434632\n",
            "[35]\ttrain-rmse:0.404793\tval-rmse:0.434324\n",
            "[36]\ttrain-rmse:0.404311\tval-rmse:0.434411\n",
            "[37]\ttrain-rmse:0.403232\tval-rmse:0.434401\n",
            "[38]\ttrain-rmse:0.402524\tval-rmse:0.434326\n",
            "[39]\ttrain-rmse:0.401856\tval-rmse:0.434527\n",
            "[40]\ttrain-rmse:0.401326\tval-rmse:0.434602\n",
            "[41]\ttrain-rmse:0.401239\tval-rmse:0.434606\n",
            "[42]\ttrain-rmse:0.400843\tval-rmse:0.434614\n",
            "[43]\ttrain-rmse:0.400622\tval-rmse:0.434606\n",
            "[44]\ttrain-rmse:0.400242\tval-rmse:0.434692\n",
            "[45]\ttrain-rmse:0.399043\tval-rmse:0.434132\n",
            "[46]\ttrain-rmse:0.39824\tval-rmse:0.434213\n",
            "[47]\ttrain-rmse:0.398051\tval-rmse:0.434152\n",
            "[48]\ttrain-rmse:0.397506\tval-rmse:0.434001\n",
            "[49]\ttrain-rmse:0.396752\tval-rmse:0.433726\n",
            "[50]\ttrain-rmse:0.395527\tval-rmse:0.433357\n",
            "[51]\ttrain-rmse:0.394522\tval-rmse:0.433401\n",
            "[52]\ttrain-rmse:0.393319\tval-rmse:0.433545\n",
            "[53]\ttrain-rmse:0.392503\tval-rmse:0.433531\n",
            "[54]\ttrain-rmse:0.391991\tval-rmse:0.433631\n",
            "[55]\ttrain-rmse:0.391777\tval-rmse:0.433642\n",
            "[56]\ttrain-rmse:0.391147\tval-rmse:0.433673\n",
            "[57]\ttrain-rmse:0.391039\tval-rmse:0.433613\n",
            "[58]\ttrain-rmse:0.390811\tval-rmse:0.433598\n",
            "[59]\ttrain-rmse:0.389819\tval-rmse:0.433417\n",
            "[60]\ttrain-rmse:0.388646\tval-rmse:0.43327\n",
            "[61]\ttrain-rmse:0.3874\tval-rmse:0.433328\n",
            "[62]\ttrain-rmse:0.386707\tval-rmse:0.432925\n",
            "[63]\ttrain-rmse:0.386409\tval-rmse:0.432932\n",
            "[64]\ttrain-rmse:0.384965\tval-rmse:0.432698\n",
            "[65]\ttrain-rmse:0.383917\tval-rmse:0.432713\n",
            "[66]\ttrain-rmse:0.383111\tval-rmse:0.432582\n",
            "[67]\ttrain-rmse:0.382678\tval-rmse:0.432494\n",
            "[68]\ttrain-rmse:0.382023\tval-rmse:0.432767\n",
            "[69]\ttrain-rmse:0.381703\tval-rmse:0.432764\n",
            "[70]\ttrain-rmse:0.380675\tval-rmse:0.432784\n",
            "[71]\ttrain-rmse:0.379796\tval-rmse:0.432762\n",
            "[72]\ttrain-rmse:0.379158\tval-rmse:0.43284\n",
            "[73]\ttrain-rmse:0.378347\tval-rmse:0.432833\n",
            "[74]\ttrain-rmse:0.37811\tval-rmse:0.43303\n",
            "[75]\ttrain-rmse:0.377159\tval-rmse:0.432945\n",
            "[76]\ttrain-rmse:0.37654\tval-rmse:0.432957\n",
            "[77]\ttrain-rmse:0.376294\tval-rmse:0.432947\n",
            "[78]\ttrain-rmse:0.375343\tval-rmse:0.432899\n",
            "[79]\ttrain-rmse:0.374981\tval-rmse:0.432732\n",
            "[80]\ttrain-rmse:0.374531\tval-rmse:0.432804\n",
            "[81]\ttrain-rmse:0.374157\tval-rmse:0.432837\n",
            "[82]\ttrain-rmse:0.373987\tval-rmse:0.432861\n",
            "[83]\ttrain-rmse:0.373639\tval-rmse:0.433009\n",
            "[84]\ttrain-rmse:0.373034\tval-rmse:0.432886\n",
            "[85]\ttrain-rmse:0.37268\tval-rmse:0.4331\n",
            "[86]\ttrain-rmse:0.371959\tval-rmse:0.433217\n",
            "[87]\ttrain-rmse:0.371162\tval-rmse:0.433563\n",
            "[88]\ttrain-rmse:0.370902\tval-rmse:0.433585\n",
            "[89]\ttrain-rmse:0.370372\tval-rmse:0.433544\n",
            "[90]\ttrain-rmse:0.370312\tval-rmse:0.433563\n",
            "[91]\ttrain-rmse:0.369742\tval-rmse:0.433568\n",
            "[92]\ttrain-rmse:0.368692\tval-rmse:0.433497\n",
            "[93]\ttrain-rmse:0.367757\tval-rmse:0.433543\n",
            "[94]\ttrain-rmse:0.366946\tval-rmse:0.433673\n",
            "[95]\ttrain-rmse:0.366663\tval-rmse:0.433719\n",
            "[96]\ttrain-rmse:0.365954\tval-rmse:0.433802\n",
            "[97]\ttrain-rmse:0.365645\tval-rmse:0.433925\n",
            "[98]\ttrain-rmse:0.364781\tval-rmse:0.433995\n",
            "[99]\ttrain-rmse:0.36437\tval-rmse:0.434066\n"
          ]
        }
      ]
    },
    {
      "cell_type": "code",
      "metadata": {
        "colab": {
          "base_uri": "https://localhost:8080/"
        },
        "id": "aHOA6sNGFwUo",
        "outputId": "12630ef0-0fe0-44b0-a677-c8af914609ab"
      },
      "source": [
        "xgb_params = { 'eta': 0.1, 'max_depth': 6, 'min_child_weight': 1, 'objective': 'reg:squarederror', 'nthread': 8, 'seed': 1, 'verbosity': 1, }\n",
        "model=xgb.train( xgb_params,dtrain=dtrain,num_boost_round=100,evals=watchlist)"
      ],
      "execution_count": 63,
      "outputs": [
        {
          "output_type": "stream",
          "name": "stdout",
          "text": [
            "[0]\ttrain-rmse:3.87217\tval-rmse:3.86889\n",
            "[1]\ttrain-rmse:3.4915\tval-rmse:3.4884\n",
            "[2]\ttrain-rmse:3.14949\tval-rmse:3.14635\n",
            "[3]\ttrain-rmse:2.84231\tval-rmse:2.83953\n",
            "[4]\ttrain-rmse:2.56649\tval-rmse:2.56407\n",
            "[5]\ttrain-rmse:2.31905\tval-rmse:2.31689\n",
            "[6]\ttrain-rmse:2.09713\tval-rmse:2.09526\n",
            "[7]\ttrain-rmse:1.89832\tval-rmse:1.89664\n",
            "[8]\ttrain-rmse:1.72031\tval-rmse:1.71879\n",
            "[9]\ttrain-rmse:1.5612\tval-rmse:1.55978\n",
            "[10]\ttrain-rmse:1.41919\tval-rmse:1.41798\n",
            "[11]\ttrain-rmse:1.29245\tval-rmse:1.29158\n",
            "[12]\ttrain-rmse:1.17975\tval-rmse:1.1792\n",
            "[13]\ttrain-rmse:1.07969\tval-rmse:1.07948\n",
            "[14]\ttrain-rmse:0.99115\tval-rmse:0.991265\n",
            "[15]\ttrain-rmse:0.912897\tval-rmse:0.913599\n",
            "[16]\ttrain-rmse:0.843951\tval-rmse:0.845246\n",
            "[17]\ttrain-rmse:0.783592\tval-rmse:0.785267\n",
            "[18]\ttrain-rmse:0.730789\tval-rmse:0.733102\n",
            "[19]\ttrain-rmse:0.684904\tval-rmse:0.687857\n",
            "[20]\ttrain-rmse:0.645011\tval-rmse:0.648887\n",
            "[21]\ttrain-rmse:0.610787\tval-rmse:0.615211\n",
            "[22]\ttrain-rmse:0.581375\tval-rmse:0.586417\n",
            "[23]\ttrain-rmse:0.556266\tval-rmse:0.562046\n",
            "[24]\ttrain-rmse:0.535029\tval-rmse:0.541461\n",
            "[25]\ttrain-rmse:0.517091\tval-rmse:0.52394\n",
            "[26]\ttrain-rmse:0.501839\tval-rmse:0.509181\n",
            "[27]\ttrain-rmse:0.489165\tval-rmse:0.497065\n",
            "[28]\ttrain-rmse:0.478232\tval-rmse:0.486831\n",
            "[29]\ttrain-rmse:0.469151\tval-rmse:0.478242\n",
            "[30]\ttrain-rmse:0.461519\tval-rmse:0.471089\n",
            "[31]\ttrain-rmse:0.455255\tval-rmse:0.46543\n",
            "[32]\ttrain-rmse:0.449975\tval-rmse:0.460653\n",
            "[33]\ttrain-rmse:0.445368\tval-rmse:0.456502\n",
            "[34]\ttrain-rmse:0.441567\tval-rmse:0.45318\n",
            "[35]\ttrain-rmse:0.438045\tval-rmse:0.450283\n",
            "[36]\ttrain-rmse:0.435374\tval-rmse:0.448054\n",
            "[37]\ttrain-rmse:0.433185\tval-rmse:0.44602\n",
            "[38]\ttrain-rmse:0.431284\tval-rmse:0.444371\n",
            "[39]\ttrain-rmse:0.429551\tval-rmse:0.443038\n",
            "[40]\ttrain-rmse:0.427864\tval-rmse:0.44178\n",
            "[41]\ttrain-rmse:0.42655\tval-rmse:0.440597\n",
            "[42]\ttrain-rmse:0.425418\tval-rmse:0.439901\n",
            "[43]\ttrain-rmse:0.424369\tval-rmse:0.439224\n",
            "[44]\ttrain-rmse:0.423468\tval-rmse:0.438677\n",
            "[45]\ttrain-rmse:0.422597\tval-rmse:0.438206\n",
            "[46]\ttrain-rmse:0.421642\tval-rmse:0.437746\n",
            "[47]\ttrain-rmse:0.420726\tval-rmse:0.437199\n",
            "[48]\ttrain-rmse:0.420044\tval-rmse:0.43676\n",
            "[49]\ttrain-rmse:0.419385\tval-rmse:0.436477\n",
            "[50]\ttrain-rmse:0.418963\tval-rmse:0.436207\n",
            "[51]\ttrain-rmse:0.418449\tval-rmse:0.436141\n",
            "[52]\ttrain-rmse:0.417806\tval-rmse:0.435999\n",
            "[53]\ttrain-rmse:0.417223\tval-rmse:0.435706\n",
            "[54]\ttrain-rmse:0.416967\tval-rmse:0.435679\n",
            "[55]\ttrain-rmse:0.416481\tval-rmse:0.435422\n",
            "[56]\ttrain-rmse:0.41619\tval-rmse:0.435381\n",
            "[57]\ttrain-rmse:0.415683\tval-rmse:0.435129\n",
            "[58]\ttrain-rmse:0.415414\tval-rmse:0.435093\n",
            "[59]\ttrain-rmse:0.414992\tval-rmse:0.434943\n",
            "[60]\ttrain-rmse:0.414688\tval-rmse:0.434822\n",
            "[61]\ttrain-rmse:0.414242\tval-rmse:0.434781\n",
            "[62]\ttrain-rmse:0.4137\tval-rmse:0.43474\n",
            "[63]\ttrain-rmse:0.413505\tval-rmse:0.434722\n",
            "[64]\ttrain-rmse:0.412916\tval-rmse:0.434555\n",
            "[65]\ttrain-rmse:0.412339\tval-rmse:0.434327\n",
            "[66]\ttrain-rmse:0.412241\tval-rmse:0.434333\n",
            "[67]\ttrain-rmse:0.411911\tval-rmse:0.434277\n",
            "[68]\ttrain-rmse:0.411579\tval-rmse:0.434178\n",
            "[69]\ttrain-rmse:0.411075\tval-rmse:0.433945\n",
            "[70]\ttrain-rmse:0.410824\tval-rmse:0.433942\n",
            "[71]\ttrain-rmse:0.410721\tval-rmse:0.433965\n",
            "[72]\ttrain-rmse:0.410328\tval-rmse:0.433895\n",
            "[73]\ttrain-rmse:0.409963\tval-rmse:0.433768\n",
            "[74]\ttrain-rmse:0.409813\tval-rmse:0.43373\n",
            "[75]\ttrain-rmse:0.409584\tval-rmse:0.433725\n",
            "[76]\ttrain-rmse:0.409233\tval-rmse:0.433748\n",
            "[77]\ttrain-rmse:0.40911\tval-rmse:0.433727\n",
            "[78]\ttrain-rmse:0.408724\tval-rmse:0.433694\n",
            "[79]\ttrain-rmse:0.408341\tval-rmse:0.433656\n",
            "[80]\ttrain-rmse:0.407816\tval-rmse:0.433406\n",
            "[81]\ttrain-rmse:0.407755\tval-rmse:0.433413\n",
            "[82]\ttrain-rmse:0.407227\tval-rmse:0.433302\n",
            "[83]\ttrain-rmse:0.406882\tval-rmse:0.433214\n",
            "[84]\ttrain-rmse:0.406806\tval-rmse:0.433234\n",
            "[85]\ttrain-rmse:0.406555\tval-rmse:0.433194\n",
            "[86]\ttrain-rmse:0.406124\tval-rmse:0.433063\n",
            "[87]\ttrain-rmse:0.405932\tval-rmse:0.433046\n",
            "[88]\ttrain-rmse:0.405745\tval-rmse:0.433059\n",
            "[89]\ttrain-rmse:0.405708\tval-rmse:0.433065\n",
            "[90]\ttrain-rmse:0.405447\tval-rmse:0.432963\n",
            "[91]\ttrain-rmse:0.405205\tval-rmse:0.43297\n",
            "[92]\ttrain-rmse:0.405154\tval-rmse:0.432959\n",
            "[93]\ttrain-rmse:0.404779\tval-rmse:0.432877\n",
            "[94]\ttrain-rmse:0.404524\tval-rmse:0.432904\n",
            "[95]\ttrain-rmse:0.404238\tval-rmse:0.43287\n",
            "[96]\ttrain-rmse:0.404184\tval-rmse:0.432859\n",
            "[97]\ttrain-rmse:0.404084\tval-rmse:0.432854\n",
            "[98]\ttrain-rmse:0.404053\tval-rmse:0.432884\n",
            "[99]\ttrain-rmse:0.404032\tval-rmse:0.432873\n"
          ]
        }
      ]
    },
    {
      "cell_type": "code",
      "metadata": {
        "colab": {
          "base_uri": "https://localhost:8080/"
        },
        "id": "YW8KvnS7GQ4K",
        "outputId": "0c7e652e-95ee-4c35-da1a-ca6894b0708d"
      },
      "source": [
        "xgb_params = { 'eta': 0.01, 'max_depth': 6, 'min_child_weight': 1, 'objective': 'reg:squarederror', 'nthread': 8, 'seed': 1, 'verbosity': 1, }\n",
        "model=xgb.train( xgb_params,dtrain=dtrain,num_boost_round=100,evals=watchlist)"
      ],
      "execution_count": 64,
      "outputs": [
        {
          "output_type": "stream",
          "name": "stdout",
          "text": [
            "[0]\ttrain-rmse:4.25336\tval-rmse:4.2501\n",
            "[1]\ttrain-rmse:4.21141\tval-rmse:4.20815\n",
            "[2]\ttrain-rmse:4.16988\tval-rmse:4.16661\n",
            "[3]\ttrain-rmse:4.12877\tval-rmse:4.12551\n",
            "[4]\ttrain-rmse:4.08807\tval-rmse:4.08481\n",
            "[5]\ttrain-rmse:4.04779\tval-rmse:4.04454\n",
            "[6]\ttrain-rmse:4.00792\tval-rmse:4.00467\n",
            "[7]\ttrain-rmse:3.96845\tval-rmse:3.96521\n",
            "[8]\ttrain-rmse:3.92937\tval-rmse:3.92616\n",
            "[9]\ttrain-rmse:3.8907\tval-rmse:3.88749\n",
            "[10]\ttrain-rmse:3.85242\tval-rmse:3.84922\n",
            "[11]\ttrain-rmse:3.81452\tval-rmse:3.81133\n",
            "[12]\ttrain-rmse:3.77701\tval-rmse:3.77383\n",
            "[13]\ttrain-rmse:3.73988\tval-rmse:3.73672\n",
            "[14]\ttrain-rmse:3.70313\tval-rmse:3.69996\n",
            "[15]\ttrain-rmse:3.66674\tval-rmse:3.66359\n",
            "[16]\ttrain-rmse:3.63073\tval-rmse:3.62759\n",
            "[17]\ttrain-rmse:3.59508\tval-rmse:3.59194\n",
            "[18]\ttrain-rmse:3.55979\tval-rmse:3.55665\n",
            "[19]\ttrain-rmse:3.52487\tval-rmse:3.52174\n",
            "[20]\ttrain-rmse:3.4903\tval-rmse:3.48718\n",
            "[21]\ttrain-rmse:3.45608\tval-rmse:3.45298\n",
            "[22]\ttrain-rmse:3.4222\tval-rmse:3.41911\n",
            "[23]\ttrain-rmse:3.38867\tval-rmse:3.38559\n",
            "[24]\ttrain-rmse:3.35548\tval-rmse:3.3524\n",
            "[25]\ttrain-rmse:3.32263\tval-rmse:3.31956\n",
            "[26]\ttrain-rmse:3.29012\tval-rmse:3.28705\n",
            "[27]\ttrain-rmse:3.25793\tval-rmse:3.25487\n",
            "[28]\ttrain-rmse:3.22606\tval-rmse:3.22302\n",
            "[29]\ttrain-rmse:3.19453\tval-rmse:3.19149\n",
            "[30]\ttrain-rmse:3.16332\tval-rmse:3.16027\n",
            "[31]\ttrain-rmse:3.13243\tval-rmse:3.12941\n",
            "[32]\ttrain-rmse:3.10184\tval-rmse:3.09883\n",
            "[33]\ttrain-rmse:3.07157\tval-rmse:3.06858\n",
            "[34]\ttrain-rmse:3.04161\tval-rmse:3.03863\n",
            "[35]\ttrain-rmse:3.01196\tval-rmse:3.00898\n",
            "[36]\ttrain-rmse:2.98261\tval-rmse:2.97966\n",
            "[37]\ttrain-rmse:2.95355\tval-rmse:2.9506\n",
            "[38]\ttrain-rmse:2.9248\tval-rmse:2.92188\n",
            "[39]\ttrain-rmse:2.89634\tval-rmse:2.89345\n",
            "[40]\ttrain-rmse:2.86817\tval-rmse:2.86532\n",
            "[41]\ttrain-rmse:2.84029\tval-rmse:2.83744\n",
            "[42]\ttrain-rmse:2.81269\tval-rmse:2.80988\n",
            "[43]\ttrain-rmse:2.78537\tval-rmse:2.78259\n",
            "[44]\ttrain-rmse:2.75834\tval-rmse:2.75558\n",
            "[45]\ttrain-rmse:2.73158\tval-rmse:2.72884\n",
            "[46]\ttrain-rmse:2.7051\tval-rmse:2.70237\n",
            "[47]\ttrain-rmse:2.67889\tval-rmse:2.67619\n",
            "[48]\ttrain-rmse:2.65294\tval-rmse:2.65028\n",
            "[49]\ttrain-rmse:2.62726\tval-rmse:2.62462\n",
            "[50]\ttrain-rmse:2.60185\tval-rmse:2.59924\n",
            "[51]\ttrain-rmse:2.5767\tval-rmse:2.57412\n",
            "[52]\ttrain-rmse:2.55181\tval-rmse:2.54924\n",
            "[53]\ttrain-rmse:2.52717\tval-rmse:2.5246\n",
            "[54]\ttrain-rmse:2.50278\tval-rmse:2.50025\n",
            "[55]\ttrain-rmse:2.47865\tval-rmse:2.47614\n",
            "[56]\ttrain-rmse:2.45477\tval-rmse:2.45227\n",
            "[57]\ttrain-rmse:2.43113\tval-rmse:2.42867\n",
            "[58]\ttrain-rmse:2.40774\tval-rmse:2.4053\n",
            "[59]\ttrain-rmse:2.38459\tval-rmse:2.38216\n",
            "[60]\ttrain-rmse:2.36167\tval-rmse:2.35927\n",
            "[61]\ttrain-rmse:2.339\tval-rmse:2.33662\n",
            "[62]\ttrain-rmse:2.31655\tval-rmse:2.31421\n",
            "[63]\ttrain-rmse:2.29434\tval-rmse:2.29203\n",
            "[64]\ttrain-rmse:2.27236\tval-rmse:2.27007\n",
            "[65]\ttrain-rmse:2.25061\tval-rmse:2.24836\n",
            "[66]\ttrain-rmse:2.22908\tval-rmse:2.22686\n",
            "[67]\ttrain-rmse:2.20778\tval-rmse:2.20558\n",
            "[68]\ttrain-rmse:2.1867\tval-rmse:2.18452\n",
            "[69]\ttrain-rmse:2.16583\tval-rmse:2.16366\n",
            "[70]\ttrain-rmse:2.14519\tval-rmse:2.14303\n",
            "[71]\ttrain-rmse:2.12476\tval-rmse:2.12262\n",
            "[72]\ttrain-rmse:2.10454\tval-rmse:2.10242\n",
            "[73]\ttrain-rmse:2.08453\tval-rmse:2.08244\n",
            "[74]\ttrain-rmse:2.06474\tval-rmse:2.06267\n",
            "[75]\ttrain-rmse:2.04515\tval-rmse:2.04309\n",
            "[76]\ttrain-rmse:2.02575\tval-rmse:2.02374\n",
            "[77]\ttrain-rmse:2.00657\tval-rmse:2.00459\n",
            "[78]\ttrain-rmse:1.98758\tval-rmse:1.98564\n",
            "[79]\ttrain-rmse:1.9688\tval-rmse:1.96687\n",
            "[80]\ttrain-rmse:1.95021\tval-rmse:1.94831\n",
            "[81]\ttrain-rmse:1.93182\tval-rmse:1.92993\n",
            "[82]\ttrain-rmse:1.91362\tval-rmse:1.91176\n",
            "[83]\ttrain-rmse:1.89561\tval-rmse:1.89376\n",
            "[84]\ttrain-rmse:1.87779\tval-rmse:1.87597\n",
            "[85]\ttrain-rmse:1.86016\tval-rmse:1.85836\n",
            "[86]\ttrain-rmse:1.8427\tval-rmse:1.84095\n",
            "[87]\ttrain-rmse:1.82543\tval-rmse:1.82371\n",
            "[88]\ttrain-rmse:1.80835\tval-rmse:1.80666\n",
            "[89]\ttrain-rmse:1.79146\tval-rmse:1.78978\n",
            "[90]\ttrain-rmse:1.77473\tval-rmse:1.77307\n",
            "[91]\ttrain-rmse:1.75817\tval-rmse:1.75655\n",
            "[92]\ttrain-rmse:1.74181\tval-rmse:1.7402\n",
            "[93]\ttrain-rmse:1.72561\tval-rmse:1.72403\n",
            "[94]\ttrain-rmse:1.70958\tval-rmse:1.70802\n",
            "[95]\ttrain-rmse:1.69373\tval-rmse:1.69216\n",
            "[96]\ttrain-rmse:1.67804\tval-rmse:1.6765\n",
            "[97]\ttrain-rmse:1.66251\tval-rmse:1.66099\n",
            "[98]\ttrain-rmse:1.64716\tval-rmse:1.64566\n",
            "[99]\ttrain-rmse:1.63197\tval-rmse:1.63049\n"
          ]
        }
      ]
    },
    {
      "cell_type": "markdown",
      "metadata": {
        "id": "9uHiuq59Gs8q"
      },
      "source": [
        "\n",
        "\n",
        "Which eta leads to the best RMSE score on the validation dataset?\n",
        "\n",
        "    0.3\n",
        "    0.1\n",
        "    0.01\n",
        "\n",
        "0.1"
      ]
    },
    {
      "cell_type": "code",
      "metadata": {
        "colab": {
          "base_uri": "https://localhost:8080/",
          "height": 137
        },
        "id": "RfL_JFQfGW7Y",
        "outputId": "0d749cb1-880c-49c5-dde2-1d0b1f15ea4c"
      },
      "source": [
        ""
      ],
      "execution_count": 65,
      "outputs": [
        {
          "output_type": "error",
          "ename": "IndentationError",
          "evalue": "ignored",
          "traceback": [
            "\u001b[0;36m  File \u001b[0;32m\"<ipython-input-65-a824fe93fb62>\"\u001b[0;36m, line \u001b[0;32m5\u001b[0m\n\u001b[0;31m    0.3\u001b[0m\n\u001b[0m    ^\u001b[0m\n\u001b[0;31mIndentationError\u001b[0m\u001b[0;31m:\u001b[0m unexpected indent\n"
          ]
        }
      ]
    },
    {
      "cell_type": "code",
      "metadata": {
        "id": "MVu_i3kbGrAZ"
      },
      "source": [
        ""
      ],
      "execution_count": null,
      "outputs": []
    }
  ]
}