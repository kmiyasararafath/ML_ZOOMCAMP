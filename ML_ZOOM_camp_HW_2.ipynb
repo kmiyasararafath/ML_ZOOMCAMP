{
  "nbformat": 4,
  "nbformat_minor": 0,
  "metadata": {
    "colab": {
      "name": "ML_ZOOM_camp_HW_2.ipynb",
      "provenance": [],
      "authorship_tag": "ABX9TyNKLQDl4e1Ail3tl0hVZRlY"
    },
    "kernelspec": {
      "name": "python3",
      "display_name": "Python 3"
    },
    "language_info": {
      "name": "python"
    }
  },
  "cells": [
    {
      "cell_type": "code",
      "metadata": {
        "id": "_hjHf_GfdYql"
      },
      "source": [
        "data_file='https://raw.githubusercontent.com/alexeygrigorev/datasets/master/AB_NYC_2019.csv'"
      ],
      "execution_count": 1,
      "outputs": []
    },
    {
      "cell_type": "code",
      "metadata": {
        "colab": {
          "base_uri": "https://localhost:8080/"
        },
        "id": "h7bCjbzIdly1",
        "outputId": "5c0e0fd2-61bc-4519-e0be-d7071d6c4c16"
      },
      "source": [
        "!wget $data_file"
      ],
      "execution_count": 2,
      "outputs": [
        {
          "output_type": "stream",
          "name": "stdout",
          "text": [
            "--2021-09-20 12:01:05--  https://raw.githubusercontent.com/alexeygrigorev/datasets/master/AB_NYC_2019.csv\n",
            "Resolving raw.githubusercontent.com (raw.githubusercontent.com)... 185.199.108.133, 185.199.109.133, 185.199.110.133, ...\n",
            "Connecting to raw.githubusercontent.com (raw.githubusercontent.com)|185.199.108.133|:443... connected.\n",
            "HTTP request sent, awaiting response... 200 OK\n",
            "Length: 7077973 (6.8M) [text/plain]\n",
            "Saving to: ‘AB_NYC_2019.csv’\n",
            "\n",
            "\rAB_NYC_2019.csv       0%[                    ]       0  --.-KB/s               \rAB_NYC_2019.csv     100%[===================>]   6.75M  --.-KB/s    in 0.04s   \n",
            "\n",
            "2021-09-20 12:01:06 (172 MB/s) - ‘AB_NYC_2019.csv’ saved [7077973/7077973]\n",
            "\n"
          ]
        }
      ]
    },
    {
      "cell_type": "code",
      "metadata": {
        "id": "AeolynYUdpWO"
      },
      "source": [
        "import pandas as pd\n",
        "import numpy as np"
      ],
      "execution_count": 3,
      "outputs": []
    },
    {
      "cell_type": "code",
      "metadata": {
        "id": "IChd_ER8eCPf"
      },
      "source": [
        "df=pd.read_csv('AB_NYC_2019.csv')"
      ],
      "execution_count": 5,
      "outputs": []
    },
    {
      "cell_type": "code",
      "metadata": {
        "colab": {
          "base_uri": "https://localhost:8080/",
          "height": 417
        },
        "id": "PdL-qxKCeJgP",
        "outputId": "392363d1-7838-46dc-8703-3306779dd1a8"
      },
      "source": [
        "df.head()"
      ],
      "execution_count": 6,
      "outputs": [
        {
          "output_type": "execute_result",
          "data": {
            "text/html": [
              "<div>\n",
              "<style scoped>\n",
              "    .dataframe tbody tr th:only-of-type {\n",
              "        vertical-align: middle;\n",
              "    }\n",
              "\n",
              "    .dataframe tbody tr th {\n",
              "        vertical-align: top;\n",
              "    }\n",
              "\n",
              "    .dataframe thead th {\n",
              "        text-align: right;\n",
              "    }\n",
              "</style>\n",
              "<table border=\"1\" class=\"dataframe\">\n",
              "  <thead>\n",
              "    <tr style=\"text-align: right;\">\n",
              "      <th></th>\n",
              "      <th>id</th>\n",
              "      <th>name</th>\n",
              "      <th>host_id</th>\n",
              "      <th>host_name</th>\n",
              "      <th>neighbourhood_group</th>\n",
              "      <th>neighbourhood</th>\n",
              "      <th>latitude</th>\n",
              "      <th>longitude</th>\n",
              "      <th>room_type</th>\n",
              "      <th>price</th>\n",
              "      <th>minimum_nights</th>\n",
              "      <th>number_of_reviews</th>\n",
              "      <th>last_review</th>\n",
              "      <th>reviews_per_month</th>\n",
              "      <th>calculated_host_listings_count</th>\n",
              "      <th>availability_365</th>\n",
              "    </tr>\n",
              "  </thead>\n",
              "  <tbody>\n",
              "    <tr>\n",
              "      <th>0</th>\n",
              "      <td>2539</td>\n",
              "      <td>Clean &amp; quiet apt home by the park</td>\n",
              "      <td>2787</td>\n",
              "      <td>John</td>\n",
              "      <td>Brooklyn</td>\n",
              "      <td>Kensington</td>\n",
              "      <td>40.64749</td>\n",
              "      <td>-73.97237</td>\n",
              "      <td>Private room</td>\n",
              "      <td>149</td>\n",
              "      <td>1</td>\n",
              "      <td>9</td>\n",
              "      <td>2018-10-19</td>\n",
              "      <td>0.21</td>\n",
              "      <td>6</td>\n",
              "      <td>365</td>\n",
              "    </tr>\n",
              "    <tr>\n",
              "      <th>1</th>\n",
              "      <td>2595</td>\n",
              "      <td>Skylit Midtown Castle</td>\n",
              "      <td>2845</td>\n",
              "      <td>Jennifer</td>\n",
              "      <td>Manhattan</td>\n",
              "      <td>Midtown</td>\n",
              "      <td>40.75362</td>\n",
              "      <td>-73.98377</td>\n",
              "      <td>Entire home/apt</td>\n",
              "      <td>225</td>\n",
              "      <td>1</td>\n",
              "      <td>45</td>\n",
              "      <td>2019-05-21</td>\n",
              "      <td>0.38</td>\n",
              "      <td>2</td>\n",
              "      <td>355</td>\n",
              "    </tr>\n",
              "    <tr>\n",
              "      <th>2</th>\n",
              "      <td>3647</td>\n",
              "      <td>THE VILLAGE OF HARLEM....NEW YORK !</td>\n",
              "      <td>4632</td>\n",
              "      <td>Elisabeth</td>\n",
              "      <td>Manhattan</td>\n",
              "      <td>Harlem</td>\n",
              "      <td>40.80902</td>\n",
              "      <td>-73.94190</td>\n",
              "      <td>Private room</td>\n",
              "      <td>150</td>\n",
              "      <td>3</td>\n",
              "      <td>0</td>\n",
              "      <td>NaN</td>\n",
              "      <td>NaN</td>\n",
              "      <td>1</td>\n",
              "      <td>365</td>\n",
              "    </tr>\n",
              "    <tr>\n",
              "      <th>3</th>\n",
              "      <td>3831</td>\n",
              "      <td>Cozy Entire Floor of Brownstone</td>\n",
              "      <td>4869</td>\n",
              "      <td>LisaRoxanne</td>\n",
              "      <td>Brooklyn</td>\n",
              "      <td>Clinton Hill</td>\n",
              "      <td>40.68514</td>\n",
              "      <td>-73.95976</td>\n",
              "      <td>Entire home/apt</td>\n",
              "      <td>89</td>\n",
              "      <td>1</td>\n",
              "      <td>270</td>\n",
              "      <td>2019-07-05</td>\n",
              "      <td>4.64</td>\n",
              "      <td>1</td>\n",
              "      <td>194</td>\n",
              "    </tr>\n",
              "    <tr>\n",
              "      <th>4</th>\n",
              "      <td>5022</td>\n",
              "      <td>Entire Apt: Spacious Studio/Loft by central park</td>\n",
              "      <td>7192</td>\n",
              "      <td>Laura</td>\n",
              "      <td>Manhattan</td>\n",
              "      <td>East Harlem</td>\n",
              "      <td>40.79851</td>\n",
              "      <td>-73.94399</td>\n",
              "      <td>Entire home/apt</td>\n",
              "      <td>80</td>\n",
              "      <td>10</td>\n",
              "      <td>9</td>\n",
              "      <td>2018-11-19</td>\n",
              "      <td>0.10</td>\n",
              "      <td>1</td>\n",
              "      <td>0</td>\n",
              "    </tr>\n",
              "  </tbody>\n",
              "</table>\n",
              "</div>"
            ],
            "text/plain": [
              "     id  ... availability_365\n",
              "0  2539  ...              365\n",
              "1  2595  ...              355\n",
              "2  3647  ...              365\n",
              "3  3831  ...              194\n",
              "4  5022  ...                0\n",
              "\n",
              "[5 rows x 16 columns]"
            ]
          },
          "metadata": {},
          "execution_count": 6
        }
      ]
    },
    {
      "cell_type": "code",
      "metadata": {
        "colab": {
          "base_uri": "https://localhost:8080/"
        },
        "id": "xr7a66QheNOO",
        "outputId": "ad71c824-e7b7-4681-ce41-64fbc3be2c2f"
      },
      "source": [
        "print(df.columns)\n",
        "print(len(df))"
      ],
      "execution_count": 9,
      "outputs": [
        {
          "output_type": "stream",
          "name": "stdout",
          "text": [
            "Index(['id', 'name', 'host_id', 'host_name', 'neighbourhood_group',\n",
            "       'neighbourhood', 'latitude', 'longitude', 'room_type', 'price',\n",
            "       'minimum_nights', 'number_of_reviews', 'last_review',\n",
            "       'reviews_per_month', 'calculated_host_listings_count',\n",
            "       'availability_365'],\n",
            "      dtype='object')\n",
            "48895\n"
          ]
        }
      ]
    },
    {
      "cell_type": "markdown",
      "metadata": {
        "id": "1bWFoxTl4BlC"
      },
      "source": [
        "EDA\n"
      ]
    },
    {
      "cell_type": "code",
      "metadata": {
        "id": "iGmsnzQx4AGv"
      },
      "source": [
        "import seaborn as sns"
      ],
      "execution_count": 10,
      "outputs": []
    },
    {
      "cell_type": "code",
      "metadata": {
        "colab": {
          "base_uri": "https://localhost:8080/",
          "height": 297
        },
        "id": "llBvEZes4I5M",
        "outputId": "c777aa73-7a8e-4bff-a24d-cdcd0ef56864"
      },
      "source": [
        "sns.histplot(df['price'][df['price']<2000])"
      ],
      "execution_count": 15,
      "outputs": [
        {
          "output_type": "execute_result",
          "data": {
            "text/plain": [
              "<matplotlib.axes._subplots.AxesSubplot at 0x7fcf9a3e1c10>"
            ]
          },
          "metadata": {},
          "execution_count": 15
        },
        {
          "output_type": "display_data",
          "data": {
            "image/png": "[encoded data removed]",
            "text/plain": [
              "<Figure size 432x288 with 1 Axes>"
            ]
          },
          "metadata": {
            "needs_background": "light"
          }
        }
      ]
    },
    {
      "cell_type": "code",
      "metadata": {
        "colab": {
          "base_uri": "https://localhost:8080/"
        },
        "id": "ruZ0dd5J5DLM",
        "outputId": "cf49eea2-28a2-46bc-8bd3-85de81b76f62"
      },
      "source": [
        "features=['latitude',           \n",
        "    'longitude',\n",
        "    'price',\n",
        "    'minimum_nights',\n",
        "    'number_of_reviews',\n",
        "    'reviews_per_month',\n",
        "    'calculated_host_listings_count',\n",
        "    'availability_365']\n",
        "features"
      ],
      "execution_count": 17,
      "outputs": [
        {
          "output_type": "execute_result",
          "data": {
            "text/plain": [
              "['latitude',\n",
              " 'longitude',\n",
              " 'price',\n",
              " 'minimum_nights',\n",
              " 'number_of_reviews',\n",
              " 'reviews_per_month',\n",
              " 'calculated_host_listings_count',\n",
              " 'availability_365']"
            ]
          },
          "metadata": {},
          "execution_count": 17
        }
      ]
    },
    {
      "cell_type": "code",
      "metadata": {
        "colab": {
          "base_uri": "https://localhost:8080/"
        },
        "id": "5PELXQSZ5QvM",
        "outputId": "b354a30d-a48a-4a0d-b57a-9687f3c4d2b0"
      },
      "source": [
        "df.columns"
      ],
      "execution_count": 18,
      "outputs": [
        {
          "output_type": "execute_result",
          "data": {
            "text/plain": [
              "Index(['id', 'name', 'host_id', 'host_name', 'neighbourhood_group',\n",
              "       'neighbourhood', 'latitude', 'longitude', 'room_type', 'price',\n",
              "       'minimum_nights', 'number_of_reviews', 'last_review',\n",
              "       'reviews_per_month', 'calculated_host_listings_count',\n",
              "       'availability_365'],\n",
              "      dtype='object')"
            ]
          },
          "metadata": {},
          "execution_count": 18
        }
      ]
    },
    {
      "cell_type": "code",
      "metadata": {
        "id": "vEbTIICfePxe"
      },
      "source": [
        "df.columns=df.columns.str.lower().str.replace(' ','_')"
      ],
      "execution_count": 19,
      "outputs": []
    },
    {
      "cell_type": "code",
      "metadata": {
        "colab": {
          "base_uri": "https://localhost:8080/"
        },
        "id": "l0Qf2VEw5fs0",
        "outputId": "463ffcbb-24eb-41c1-bd25-da9dddceb9ff"
      },
      "source": [
        "df.columns"
      ],
      "execution_count": 20,
      "outputs": [
        {
          "output_type": "execute_result",
          "data": {
            "text/plain": [
              "Index(['id', 'name', 'host_id', 'host_name', 'neighbourhood_group',\n",
              "       'neighbourhood', 'latitude', 'longitude', 'room_type', 'price',\n",
              "       'minimum_nights', 'number_of_reviews', 'last_review',\n",
              "       'reviews_per_month', 'calculated_host_listings_count',\n",
              "       'availability_365'],\n",
              "      dtype='object')"
            ]
          },
          "metadata": {},
          "execution_count": 20
        }
      ]
    },
    {
      "cell_type": "markdown",
      "metadata": {
        "id": "J61Wow-A6DR-"
      },
      "source": [
        "Question 1"
      ]
    },
    {
      "cell_type": "code",
      "metadata": {
        "colab": {
          "base_uri": "https://localhost:8080/",
          "height": 444
        },
        "id": "NV3dGHCBeb7f",
        "outputId": "443355ef-ba3e-4495-9792-764c639ed475"
      },
      "source": [
        "df[features]"
      ],
      "execution_count": 23,
      "outputs": [
        {
          "output_type": "execute_result",
          "data": {
            "text/html": [
              "<div>\n",
              "<style scoped>\n",
              "    .dataframe tbody tr th:only-of-type {\n",
              "        vertical-align: middle;\n",
              "    }\n",
              "\n",
              "    .dataframe tbody tr th {\n",
              "        vertical-align: top;\n",
              "    }\n",
              "\n",
              "    .dataframe thead th {\n",
              "        text-align: right;\n",
              "    }\n",
              "</style>\n",
              "<table border=\"1\" class=\"dataframe\">\n",
              "  <thead>\n",
              "    <tr style=\"text-align: right;\">\n",
              "      <th></th>\n",
              "      <th>latitude</th>\n",
              "      <th>longitude</th>\n",
              "      <th>price</th>\n",
              "      <th>minimum_nights</th>\n",
              "      <th>number_of_reviews</th>\n",
              "      <th>reviews_per_month</th>\n",
              "      <th>calculated_host_listings_count</th>\n",
              "      <th>availability_365</th>\n",
              "    </tr>\n",
              "  </thead>\n",
              "  <tbody>\n",
              "    <tr>\n",
              "      <th>0</th>\n",
              "      <td>40.64749</td>\n",
              "      <td>-73.97237</td>\n",
              "      <td>149</td>\n",
              "      <td>1</td>\n",
              "      <td>9</td>\n",
              "      <td>0.21</td>\n",
              "      <td>6</td>\n",
              "      <td>365</td>\n",
              "    </tr>\n",
              "    <tr>\n",
              "      <th>1</th>\n",
              "      <td>40.75362</td>\n",
              "      <td>-73.98377</td>\n",
              "      <td>225</td>\n",
              "      <td>1</td>\n",
              "      <td>45</td>\n",
              "      <td>0.38</td>\n",
              "      <td>2</td>\n",
              "      <td>355</td>\n",
              "    </tr>\n",
              "    <tr>\n",
              "      <th>2</th>\n",
              "      <td>40.80902</td>\n",
              "      <td>-73.94190</td>\n",
              "      <td>150</td>\n",
              "      <td>3</td>\n",
              "      <td>0</td>\n",
              "      <td>NaN</td>\n",
              "      <td>1</td>\n",
              "      <td>365</td>\n",
              "    </tr>\n",
              "    <tr>\n",
              "      <th>3</th>\n",
              "      <td>40.68514</td>\n",
              "      <td>-73.95976</td>\n",
              "      <td>89</td>\n",
              "      <td>1</td>\n",
              "      <td>270</td>\n",
              "      <td>4.64</td>\n",
              "      <td>1</td>\n",
              "      <td>194</td>\n",
              "    </tr>\n",
              "    <tr>\n",
              "      <th>4</th>\n",
              "      <td>40.79851</td>\n",
              "      <td>-73.94399</td>\n",
              "      <td>80</td>\n",
              "      <td>10</td>\n",
              "      <td>9</td>\n",
              "      <td>0.10</td>\n",
              "      <td>1</td>\n",
              "      <td>0</td>\n",
              "    </tr>\n",
              "    <tr>\n",
              "      <th>...</th>\n",
              "      <td>...</td>\n",
              "      <td>...</td>\n",
              "      <td>...</td>\n",
              "      <td>...</td>\n",
              "      <td>...</td>\n",
              "      <td>...</td>\n",
              "      <td>...</td>\n",
              "      <td>...</td>\n",
              "    </tr>\n",
              "    <tr>\n",
              "      <th>48890</th>\n",
              "      <td>40.67853</td>\n",
              "      <td>-73.94995</td>\n",
              "      <td>70</td>\n",
              "      <td>2</td>\n",
              "      <td>0</td>\n",
              "      <td>NaN</td>\n",
              "      <td>2</td>\n",
              "      <td>9</td>\n",
              "    </tr>\n",
              "    <tr>\n",
              "      <th>48891</th>\n",
              "      <td>40.70184</td>\n",
              "      <td>-73.93317</td>\n",
              "      <td>40</td>\n",
              "      <td>4</td>\n",
              "      <td>0</td>\n",
              "      <td>NaN</td>\n",
              "      <td>2</td>\n",
              "      <td>36</td>\n",
              "    </tr>\n",
              "    <tr>\n",
              "      <th>48892</th>\n",
              "      <td>40.81475</td>\n",
              "      <td>-73.94867</td>\n",
              "      <td>115</td>\n",
              "      <td>10</td>\n",
              "      <td>0</td>\n",
              "      <td>NaN</td>\n",
              "      <td>1</td>\n",
              "      <td>27</td>\n",
              "    </tr>\n",
              "    <tr>\n",
              "      <th>48893</th>\n",
              "      <td>40.75751</td>\n",
              "      <td>-73.99112</td>\n",
              "      <td>55</td>\n",
              "      <td>1</td>\n",
              "      <td>0</td>\n",
              "      <td>NaN</td>\n",
              "      <td>6</td>\n",
              "      <td>2</td>\n",
              "    </tr>\n",
              "    <tr>\n",
              "      <th>48894</th>\n",
              "      <td>40.76404</td>\n",
              "      <td>-73.98933</td>\n",
              "      <td>90</td>\n",
              "      <td>7</td>\n",
              "      <td>0</td>\n",
              "      <td>NaN</td>\n",
              "      <td>1</td>\n",
              "      <td>23</td>\n",
              "    </tr>\n",
              "  </tbody>\n",
              "</table>\n",
              "<p>48895 rows × 8 columns</p>\n",
              "</div>"
            ],
            "text/plain": [
              "       latitude  longitude  ...  calculated_host_listings_count  availability_365\n",
              "0      40.64749  -73.97237  ...                               6               365\n",
              "1      40.75362  -73.98377  ...                               2               355\n",
              "2      40.80902  -73.94190  ...                               1               365\n",
              "3      40.68514  -73.95976  ...                               1               194\n",
              "4      40.79851  -73.94399  ...                               1                 0\n",
              "...         ...        ...  ...                             ...               ...\n",
              "48890  40.67853  -73.94995  ...                               2                 9\n",
              "48891  40.70184  -73.93317  ...                               2                36\n",
              "48892  40.81475  -73.94867  ...                               1                27\n",
              "48893  40.75751  -73.99112  ...                               6                 2\n",
              "48894  40.76404  -73.98933  ...                               1                23\n",
              "\n",
              "[48895 rows x 8 columns]"
            ]
          },
          "metadata": {},
          "execution_count": 23
        }
      ]
    },
    {
      "cell_type": "code",
      "metadata": {
        "colab": {
          "base_uri": "https://localhost:8080/"
        },
        "id": "v_JF472A53vk",
        "outputId": "7d89f775-d897-4c5e-97ff-31617989654e"
      },
      "source": [
        "df[features].isnull().sum()"
      ],
      "execution_count": 24,
      "outputs": [
        {
          "output_type": "execute_result",
          "data": {
            "text/plain": [
              "latitude                              0\n",
              "longitude                             0\n",
              "price                                 0\n",
              "minimum_nights                        0\n",
              "number_of_reviews                     0\n",
              "reviews_per_month                 10052\n",
              "calculated_host_listings_count        0\n",
              "availability_365                      0\n",
              "dtype: int64"
            ]
          },
          "metadata": {},
          "execution_count": 24
        }
      ]
    },
    {
      "cell_type": "markdown",
      "metadata": {
        "id": "AIVs7U6k6JBE"
      },
      "source": [
        "Question 2"
      ]
    },
    {
      "cell_type": "code",
      "metadata": {
        "colab": {
          "base_uri": "https://localhost:8080/"
        },
        "id": "yi7FpF-q6BZk",
        "outputId": "15785e92-6dcc-4042-bf71-08a4719b0195"
      },
      "source": [
        "df.minimum_nights.median()"
      ],
      "execution_count": 29,
      "outputs": [
        {
          "output_type": "stream",
          "name": "stdout",
          "text": [
            "3.0\n"
          ]
        },
        {
          "output_type": "execute_result",
          "data": {
            "text/plain": [
              "3.0"
            ]
          },
          "metadata": {},
          "execution_count": 29
        }
      ]
    },
    {
      "cell_type": "markdown",
      "metadata": {
        "id": "2wkWjrzw6tnc"
      },
      "source": [
        "Spliting the data"
      ]
    },
    {
      "cell_type": "code",
      "metadata": {
        "colab": {
          "base_uri": "https://localhost:8080/"
        },
        "id": "SnDLDriu6tLk",
        "outputId": "9d880fce-e16d-42c8-da16-94b292b63c69"
      },
      "source": [
        "np.random.seed(42)\n",
        "num_total=len(df)\n",
        "#shuffling the dataset\n",
        "idx=np.arange(num_total)\n",
        "print(idx)\n",
        "np.random.shuffle(idx)\n",
        "print(idx)\n",
        "df_shuffled=df[features].iloc[idx]\n",
        "\n",
        "print(df_shuffled.columns)\n",
        "\n",
        "# Finding number of samples in train, test and validation\n",
        "num_test=int(0.2*num_total)\n",
        "num_val=int(0.2*num_total)\n",
        "num_train=num_total-num_test-num_val\n",
        "\n",
        "#creating the train,test,validation dataset\n",
        "df_train=df_shuffled.iloc[:num_train].copy()\n",
        "df_val=df_shuffled.iloc[num_train:num_train+num_val].copy()\n",
        "df_test=df_shuffled.iloc[num_train+num_val:].copy()\n",
        "print(len(df_train))\n",
        "print(len(df_test))\n",
        "print(len(df_val))"
      ],
      "execution_count": 41,
      "outputs": [
        {
          "output_type": "stream",
          "name": "stdout",
          "text": [
            "[    0     1     2 ... 48892 48893 48894]\n",
            "[  879 44383 15394 ... 38158   860 15795]\n",
            "Index(['latitude', 'longitude', 'price', 'minimum_nights', 'number_of_reviews',\n",
            "       'reviews_per_month', 'calculated_host_listings_count',\n",
            "       'availability_365'],\n",
            "      dtype='object')\n",
            "29337\n",
            "9779\n",
            "9779\n"
          ]
        }
      ]
    },
    {
      "cell_type": "code",
      "metadata": {
        "colab": {
          "base_uri": "https://localhost:8080/",
          "height": 283
        },
        "id": "yvto8jaP9JYz",
        "outputId": "c541ebbf-c0a9-4c61-fd16-6de08a59c111"
      },
      "source": [
        "#preparing the target values for the train, test and validation\n",
        "y_train_original=df_train.price.values\n",
        "y_val_original=df_val.price.values\n",
        "y_test_original=df_test.price.values\n",
        "\n",
        "y_train=np.log1p(y_train_original)\n",
        "y_test=np.log1p(y_test_original)\n",
        "y_val=np.log1p(y_val_original)\n",
        "\n",
        "y_all_original=df_shuffled.price.values\n",
        "y_all_logged=np.log1p(y_all_original)\n",
        "sns.histplot(y_all_logged)"
      ],
      "execution_count": 63,
      "outputs": [
        {
          "output_type": "execute_result",
          "data": {
            "text/plain": [
              "<matplotlib.axes._subplots.AxesSubplot at 0x7fcf99350f90>"
            ]
          },
          "metadata": {},
          "execution_count": 63
        },
        {
          "output_type": "display_data",
          "data": {
            "image/png": "[encoded data removed]",
            "text/plain": [
              "<Figure size 432x288 with 1 Axes>"
            ]
          },
          "metadata": {
            "needs_background": "light"
          }
        }
      ]
    },
    {
      "cell_type": "markdown",
      "metadata": {
        "id": "PvMpIXDB-yAB"
      },
      "source": [
        "Question 3"
      ]
    },
    {
      "cell_type": "code",
      "metadata": {
        "colab": {
          "base_uri": "https://localhost:8080/"
        },
        "id": "6M3qgX6Y-0sM",
        "outputId": "313a752a-6763-4e4f-cb59-c9e4454ab928"
      },
      "source": [
        "df_train.isnull().sum()"
      ],
      "execution_count": 64,
      "outputs": [
        {
          "output_type": "execute_result",
          "data": {
            "text/plain": [
              "latitude                             0\n",
              "longitude                            0\n",
              "price                                0\n",
              "minimum_nights                       0\n",
              "number_of_reviews                    0\n",
              "reviews_per_month                 5998\n",
              "calculated_host_listings_count       0\n",
              "availability_365                     0\n",
              "dtype: int64"
            ]
          },
          "metadata": {},
          "execution_count": 64
        }
      ]
    },
    {
      "cell_type": "code",
      "metadata": {
        "id": "KCJ3R1TE_j_T"
      },
      "source": [
        "def prepare_data(df,value_to_fill):\n",
        "  df=df.fillna(value_to_fill)\n",
        "  X=df.values\n",
        "  return X"
      ],
      "execution_count": 65,
      "outputs": []
    },
    {
      "cell_type": "code",
      "metadata": {
        "colab": {
          "base_uri": "https://localhost:8080/"
        },
        "id": "e2HIhasxDzkl",
        "outputId": "9600c18b-ee1f-4105-e02c-230576f916d4"
      },
      "source": [
        "X_train=prepare_data(df_train,0)\n",
        "X_train.shape\n",
        "ones_vector = np.ones(X_train.shape[0])\n",
        "ones_vector.shape"
      ],
      "execution_count": 66,
      "outputs": [
        {
          "output_type": "execute_result",
          "data": {
            "text/plain": [
              "(29337,)"
            ]
          },
          "metadata": {},
          "execution_count": 66
        }
      ]
    },
    {
      "cell_type": "code",
      "metadata": {
        "id": "Ko26tdPFAa-t"
      },
      "source": [
        "def linear_regression(X_train,y_train):\n",
        "  ones_vector = np.ones(X_train.shape[0])\n",
        "  X_train=np.column_stack([ones_vector,X_train])\n",
        "  XTX=X_train.T.dot(X_train)\n",
        "  XTX_inv=np.linalg.inv(XTX)\n",
        "  W=XTX_inv.dot(X_train.T).dot(y_train)\n",
        "\n",
        "  return W"
      ],
      "execution_count": 67,
      "outputs": []
    },
    {
      "cell_type": "code",
      "metadata": {
        "id": "lUTYHb6kFj9g"
      },
      "source": [
        "def rmse(y,y_pred):\n",
        "  se=(y-y_pred)**2\n",
        "  mse=se.mean()\n",
        "  return np.sqrt(mse)"
      ],
      "execution_count": 68,
      "outputs": []
    },
    {
      "cell_type": "code",
      "metadata": {
        "id": "Uo8O-SefEx7r"
      },
      "source": [
        "# Training with fill of 0\n",
        "X_train=prepare_data(df_train,0)\n",
        "W=linear_regression(X_train,y_train)\n",
        "y_pred=W[0]+X_train.dot(W[1:])\n",
        "rmse_train=rmse(y_train,y_pred)\n",
        "\n",
        "# on validation data\n",
        "X_val=prepare_data(df_val,0)\n",
        "#print(X_val.shape)\n",
        "y_pred=W[0]+X_val.dot(W[1:])\n",
        "#print(y_pred.shape)\n",
        "rmse_val_0=rmse(y_val,y_pred)\n",
        "\n"
      ],
      "execution_count": 76,
      "outputs": []
    },
    {
      "cell_type": "code",
      "metadata": {
        "colab": {
          "base_uri": "https://localhost:8080/"
        },
        "id": "k9fbs3WCHV0k",
        "outputId": "2cc8f7b7-c666-4592-d6c3-cd4580f0612c"
      },
      "source": [
        "df_train.isnull().sum()"
      ],
      "execution_count": 77,
      "outputs": [
        {
          "output_type": "execute_result",
          "data": {
            "text/plain": [
              "latitude                             0\n",
              "longitude                            0\n",
              "price                                0\n",
              "minimum_nights                       0\n",
              "number_of_reviews                    0\n",
              "reviews_per_month                 5998\n",
              "calculated_host_listings_count       0\n",
              "availability_365                     0\n",
              "dtype: int64"
            ]
          },
          "metadata": {},
          "execution_count": 77
        }
      ]
    },
    {
      "cell_type": "code",
      "metadata": {
        "colab": {
          "base_uri": "https://localhost:8080/"
        },
        "id": "3jMW0IIgHMW_",
        "outputId": "f46e1148-e4f3-41b4-9261-78b4048538b1"
      },
      "source": [
        "# Training with fill of mean\n",
        "# Finding the mean of reviews_per_month\n",
        "mean_rpm=df_train['reviews_per_month'].mean()\n",
        "print(mean_rpm)\n",
        "\n",
        "X_train=prepare_data(df_train,mean_rpm)\n",
        "W=linear_regression(X_train,y_train)\n",
        "y_pred=W[0]+X_train.dot(W[1:])\n",
        "rmse_train=rmse(y_train,y_pred)\n",
        "\n",
        "# on validation data\n",
        "X_val=prepare_data(df_val,mean_rpm)\n",
        "#print(X_val.shape)\n",
        "y_pred=W[0]+X_val.dot(W[1:])\n",
        "#print(y_pred.shape)\n",
        "rmse_val_mean=rmse(y_val,y_pred)\n"
      ],
      "execution_count": 78,
      "outputs": [
        {
          "output_type": "stream",
          "name": "stdout",
          "text": [
            "1.3685492094777056\n"
          ]
        }
      ]
    },
    {
      "cell_type": "code",
      "metadata": {
        "colab": {
          "base_uri": "https://localhost:8080/"
        },
        "id": "6VKOta2sH2zE",
        "outputId": "0a9c54f8-febc-41f6-fe3c-30505f6a921e"
      },
      "source": [
        "#comparing the rmse of zero fill and mean fill\n",
        "print(round(rmse_val_0,2))\n",
        "print(round(rmse_val_mean,2))"
      ],
      "execution_count": 80,
      "outputs": [
        {
          "output_type": "stream",
          "name": "stdout",
          "text": [
            "0.51\n",
            "0.51\n"
          ]
        }
      ]
    },
    {
      "cell_type": "markdown",
      "metadata": {
        "id": "iUL5utwPITlW"
      },
      "source": [
        "Question 4"
      ]
    },
    {
      "cell_type": "code",
      "metadata": {
        "id": "OsYNd0ThIdEU"
      },
      "source": [
        "def linear_regression_reg(X_train,y_train,r):\n",
        "  ones_vector = np.ones(X_train.shape[0])\n",
        "  X_train=np.column_stack([ones_vector,X_train])\n",
        "  XTX=X_train.T.dot(X_train)\n",
        "  reg=r*np.eye(XTX.shape[0])\n",
        "  XTX=XTX+reg\n",
        "  XTX_inv=np.linalg.inv(XTX)\n",
        "  W=XTX_inv.dot(X_train.T).dot(y_train)\n",
        "\n",
        "  return W"
      ],
      "execution_count": 85,
      "outputs": []
    },
    {
      "cell_type": "code",
      "metadata": {
        "colab": {
          "base_uri": "https://localhost:8080/"
        },
        "id": "Azy-DLdSI8dD",
        "outputId": "5f19b874-7587-4263-9851-be99a8b15a40"
      },
      "source": [
        "#\n",
        "X_train=prepare_data(df_train,0)\n",
        "r=[0, 0.000001, 0.0001, 0.001, 0.01, 0.1, 1, 5, 10]\n",
        "for val in r:\n",
        "  W=linear_regression_reg(X_train,y_train,val)\n",
        "  y_pred=W[0]+X_train.dot(W[1:])\n",
        "  #rmse_train=rmse(y_train,y_pred)\n",
        "\n",
        "  # on validation data\n",
        "  X_val=prepare_data(df_val,0)\n",
        "  y_pred=W[0]+X_val.dot(W[1:])\n",
        "  rmse_val=rmse(y_val,y_pred)\n",
        "  print(val,round(rmse_val,2))\n"
      ],
      "execution_count": 87,
      "outputs": [
        {
          "output_type": "stream",
          "name": "stdout",
          "text": [
            "0 0.51\n",
            "1e-06 0.51\n",
            "0.0001 0.51\n",
            "0.001 0.51\n",
            "0.01 0.52\n",
            "0.1 0.53\n",
            "1 0.53\n",
            "5 0.53\n",
            "10 0.53\n"
          ]
        }
      ]
    },
    {
      "cell_type": "markdown",
      "metadata": {
        "id": "nyz6nuzKKBEH"
      },
      "source": [
        "Question 5"
      ]
    },
    {
      "cell_type": "code",
      "metadata": {
        "id": "DIzszTTwJ-SS"
      },
      "source": [
        "def prepare_df(df,features,seed_value):\n",
        "  np.random.seed(seed_value)\n",
        "  num_total=len(df)\n",
        "  #shuffling the dataset\n",
        "  idx=np.arange(num_total)\n",
        "  #print(idx)\n",
        "  np.random.shuffle(idx)\n",
        "  #print(idx)\n",
        "  df_shuffled=df[features].iloc[idx]\n",
        "\n",
        "  #print(df_shuffled.columns)\n",
        "\n",
        "  # Finding number of samples in train, test and validation\n",
        "  num_test=int(0.2*num_total)\n",
        "  num_val=int(0.2*num_total)\n",
        "  num_train=num_total-num_test-num_val\n",
        "\n",
        "  #creating the train,test,validation dataset\n",
        "  df_train=df_shuffled.iloc[:num_train].copy()\n",
        "  df_val=df_shuffled.iloc[num_train:num_train+num_val].copy()\n",
        "  df_test=df_shuffled.iloc[num_train+num_val:].copy()\n",
        "\n",
        "  #preparing the target values for the train, test and validation\n",
        "  y_train_original=df_train.price.values\n",
        "  y_val_original=df_val.price.values\n",
        "  y_test_original=df_test.price.values\n",
        "\n",
        "  y_train=np.log1p(y_train_original)\n",
        "  y_test=np.log1p(y_test_original)\n",
        "  y_val=np.log1p(y_val_original)\n",
        "\n",
        "  X_train=prepare_data(df_train,0)\n",
        "  X_val=prepare_data(df_val,0)\n",
        "  X_test=prepare_data(df_test,0)\n",
        "  \n",
        "  return X_train,X_val,X_test,y_train,y_val,y_test\n"
      ],
      "execution_count": 95,
      "outputs": []
    },
    {
      "cell_type": "code",
      "metadata": {
        "colab": {
          "base_uri": "https://localhost:8080/"
        },
        "id": "ht9GyHVdLEPm",
        "outputId": "cc5f84eb-7a88-4960-ab12-1202cd2e88dc"
      },
      "source": [
        "seed=[0, 1, 2, 3, 4, 5, 6, 7, 8, 9]\n",
        "rmse_val=[]\n",
        "for val in seed:\n",
        "  X_train,X_val,X_test,y_train,y_val,y_test=prepare_df(df,features,val)\n",
        "  W=linear_regression(X_train,y_train)\n",
        "  y_pred=W[0]+X_train.dot(W[1:])\n",
        "  #rmse_train=rmse(y_train,y_pred)\n",
        "\n",
        "  y_pred=W[0]+X_val.dot(W[1:])\n",
        "  rmse_val.append(rmse(y_val,y_pred))\n",
        "\n",
        "print(rmse_val)\n",
        "rmse_std=round(np.std(rmse_val),3)\n",
        "print(rmse_std)"
      ],
      "execution_count": 99,
      "outputs": [
        {
          "output_type": "stream",
          "name": "stdout",
          "text": [
            "[0.5075591015939082, 0.55281363971486, 0.5100524498979423, 0.5347040972659989, 0.4895942225839773, 0.4871749166120852, 0.48439172273078673, 0.47653059434753187, 0.5357212602999242, 0.49457407250161645]\n",
            "0.024\n"
          ]
        }
      ]
    },
    {
      "cell_type": "markdown",
      "metadata": {
        "id": "bX0X-UZANkfq"
      },
      "source": [
        "Question 6"
      ]
    },
    {
      "cell_type": "code",
      "metadata": {
        "colab": {
          "base_uri": "https://localhost:8080/"
        },
        "id": "X9TKjvMGNha-",
        "outputId": "f0fb73a8-3032-44b3-ba2d-46e30880279a"
      },
      "source": [
        "seed_val=9\n",
        "X_train,X_val,X_test,y_train,y_val,y_test=prepare_df(df,features,seed_val)\n",
        "X_train_full=np.concatenate([X_train,X_val])\n",
        "print(X_train_full.shape)\n",
        "y_train_full=np.concatenate([y_train,y_val])\n",
        "print(y_train_full.shape)"
      ],
      "execution_count": 104,
      "outputs": [
        {
          "output_type": "stream",
          "name": "stdout",
          "text": [
            "(39116, 8)\n",
            "(39116,)\n"
          ]
        }
      ]
    },
    {
      "cell_type": "code",
      "metadata": {
        "colab": {
          "base_uri": "https://localhost:8080/"
        },
        "id": "eEtb361vOruS",
        "outputId": "4a18c93c-2ba4-44b7-ddca-075c448eca24"
      },
      "source": [
        "29337+9779"
      ],
      "execution_count": 105,
      "outputs": [
        {
          "output_type": "execute_result",
          "data": {
            "text/plain": [
              "39116"
            ]
          },
          "metadata": {},
          "execution_count": 105
        }
      ]
    },
    {
      "cell_type": "code",
      "metadata": {
        "colab": {
          "base_uri": "https://localhost:8080/"
        },
        "id": "qDAtaLTqOyCr",
        "outputId": "f238b2b2-da65-4ae6-dcdb-24558f33e23e"
      },
      "source": [
        "W=linear_regression_reg(X_train_full,y_train_full,0.001)\n",
        "y_pred=W[0]+X_train_full.dot(W[1:])\n",
        "rmse_train=rmse(y_train_full,y_pred)\n",
        "print(rmse_train)\n",
        "y_pred=W[0]+X_test.dot(W[1:])\n",
        "rmse_test=rmse(y_test,y_pred)\n",
        "print(rmse_test)\n"
      ],
      "execution_count": 106,
      "outputs": [
        {
          "output_type": "stream",
          "name": "stdout",
          "text": [
            "0.5000854723488242\n",
            "0.5196670852074082\n"
          ]
        }
      ]
    }
  ]
}